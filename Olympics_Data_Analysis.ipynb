{
  "nbformat": 4,
  "nbformat_minor": 0,
  "metadata": {
    "colab": {
      "name": "Olympics Data Analysis.ipynb",
      "provenance": [],
      "authorship_tag": "ABX9TyN0/WM4JpJWthu3jH5rqvN1",
      "include_colab_link": true
    },
    "kernelspec": {
      "name": "python3",
      "display_name": "Python 3"
    },
    "language_info": {
      "name": "python"
    }
  },
  "cells": [
    {
      "cell_type": "markdown",
      "metadata": {
        "id": "view-in-github",
        "colab_type": "text"
      },
      "source": [
        "<a href=\"https://colab.research.google.com/github/preethi4848/ETG_Olympics-Data-Analysis/blob/main/Olympics_Data_Analysis.ipynb\" target=\"_parent\"><img src=\"https://colab.research.google.com/assets/colab-badge.svg\" alt=\"Open In Colab\"/></a>"
      ]
    },
    {
      "cell_type": "markdown",
      "metadata": {
        "id": "nFJWAnzK-h0W"
      },
      "source": [
        "# **AN EXPLORATORY DATA ANALYSIS ON OLYMPICS GAMES FROM 1986 - 2012**\n",
        "\n",
        "---\n",
        "\n",
        "\n",
        "This is a historical dataset on the modern Olympic Games, including all the Games from Athens 1896 to Rio 2012. I have fetched the dataset from this link: [Kaggle](https://www.kaggle.com/the-guardian/olympic-games)\n",
        "\n",
        "**Submitted By :** [Preethi G](https://preethi4848.github.io/My-Porfolio/)\n",
        "\n"
      ]
    },
    {
      "cell_type": "code",
      "metadata": {
        "id": "fUgFGoc40h8M"
      },
      "source": [
        "#Importing libraries\n",
        "import pandas as pd\n",
        "import numpy as np\n",
        "\n",
        "#visualization\n",
        "import matplotlib\n",
        "import matplotlib.pyplot as plt\n",
        "import seaborn as sns\n",
        "%matplotlib inline"
      ],
      "execution_count": 191,
      "outputs": []
    },
    {
      "cell_type": "code",
      "metadata": {
        "id": "RF57EDJB8fHW"
      },
      "source": [
        "#Reading the three datasets\n",
        "dict_df = pd.read_csv(\"/content/dictionary.csv\")\n",
        "summer_df = pd.read_csv(\"/content/summer.csv\")\n",
        "winter_df = pd.read_csv(\"/content/winter.csv\")"
      ],
      "execution_count": 192,
      "outputs": []
    },
    {
      "cell_type": "markdown",
      "metadata": {
        "id": "T0vDIoYO-5Bo"
      },
      "source": [
        "### **DATA CLEANING & UNDERSTANDING**"
      ]
    },
    {
      "cell_type": "code",
      "metadata": {
        "id": "dxKny3xC81PN",
        "colab": {
          "base_uri": "https://localhost:8080/",
          "height": 203
        },
        "outputId": "fc5acdc0-d5db-4b27-b761-4ecd1a7386bf"
      },
      "source": [
        "dict_df.head()"
      ],
      "execution_count": 193,
      "outputs": [
        {
          "output_type": "execute_result",
          "data": {
            "text/html": [
              "<div>\n",
              "<style scoped>\n",
              "    .dataframe tbody tr th:only-of-type {\n",
              "        vertical-align: middle;\n",
              "    }\n",
              "\n",
              "    .dataframe tbody tr th {\n",
              "        vertical-align: top;\n",
              "    }\n",
              "\n",
              "    .dataframe thead th {\n",
              "        text-align: right;\n",
              "    }\n",
              "</style>\n",
              "<table border=\"1\" class=\"dataframe\">\n",
              "  <thead>\n",
              "    <tr style=\"text-align: right;\">\n",
              "      <th></th>\n",
              "      <th>Country</th>\n",
              "      <th>Code</th>\n",
              "      <th>Population</th>\n",
              "      <th>GDP per Capita</th>\n",
              "    </tr>\n",
              "  </thead>\n",
              "  <tbody>\n",
              "    <tr>\n",
              "      <th>0</th>\n",
              "      <td>Afghanistan</td>\n",
              "      <td>AFG</td>\n",
              "      <td>32526562.0</td>\n",
              "      <td>594.323081</td>\n",
              "    </tr>\n",
              "    <tr>\n",
              "      <th>1</th>\n",
              "      <td>Albania</td>\n",
              "      <td>ALB</td>\n",
              "      <td>2889167.0</td>\n",
              "      <td>3945.217582</td>\n",
              "    </tr>\n",
              "    <tr>\n",
              "      <th>2</th>\n",
              "      <td>Algeria</td>\n",
              "      <td>ALG</td>\n",
              "      <td>39666519.0</td>\n",
              "      <td>4206.031232</td>\n",
              "    </tr>\n",
              "    <tr>\n",
              "      <th>3</th>\n",
              "      <td>American Samoa*</td>\n",
              "      <td>ASA</td>\n",
              "      <td>55538.0</td>\n",
              "      <td>NaN</td>\n",
              "    </tr>\n",
              "    <tr>\n",
              "      <th>4</th>\n",
              "      <td>Andorra</td>\n",
              "      <td>AND</td>\n",
              "      <td>70473.0</td>\n",
              "      <td>NaN</td>\n",
              "    </tr>\n",
              "  </tbody>\n",
              "</table>\n",
              "</div>"
            ],
            "text/plain": [
              "           Country Code  Population  GDP per Capita\n",
              "0      Afghanistan  AFG  32526562.0      594.323081\n",
              "1          Albania  ALB   2889167.0     3945.217582\n",
              "2          Algeria  ALG  39666519.0     4206.031232\n",
              "3  American Samoa*  ASA     55538.0             NaN\n",
              "4          Andorra  AND     70473.0             NaN"
            ]
          },
          "metadata": {},
          "execution_count": 193
        }
      ]
    },
    {
      "cell_type": "code",
      "metadata": {
        "colab": {
          "base_uri": "https://localhost:8080/",
          "height": 417
        },
        "id": "4CAxBvixOl0c",
        "outputId": "a0b37668-3da5-435e-e0ea-c50cb081a7ff"
      },
      "source": [
        "summer_df"
      ],
      "execution_count": 194,
      "outputs": [
        {
          "output_type": "execute_result",
          "data": {
            "text/html": [
              "<div>\n",
              "<style scoped>\n",
              "    .dataframe tbody tr th:only-of-type {\n",
              "        vertical-align: middle;\n",
              "    }\n",
              "\n",
              "    .dataframe tbody tr th {\n",
              "        vertical-align: top;\n",
              "    }\n",
              "\n",
              "    .dataframe thead th {\n",
              "        text-align: right;\n",
              "    }\n",
              "</style>\n",
              "<table border=\"1\" class=\"dataframe\">\n",
              "  <thead>\n",
              "    <tr style=\"text-align: right;\">\n",
              "      <th></th>\n",
              "      <th>Year</th>\n",
              "      <th>City</th>\n",
              "      <th>Sport</th>\n",
              "      <th>Discipline</th>\n",
              "      <th>Athlete</th>\n",
              "      <th>Country</th>\n",
              "      <th>Gender</th>\n",
              "      <th>Event</th>\n",
              "      <th>Medal</th>\n",
              "    </tr>\n",
              "  </thead>\n",
              "  <tbody>\n",
              "    <tr>\n",
              "      <th>0</th>\n",
              "      <td>1896</td>\n",
              "      <td>Athens</td>\n",
              "      <td>Aquatics</td>\n",
              "      <td>Swimming</td>\n",
              "      <td>HAJOS, Alfred</td>\n",
              "      <td>HUN</td>\n",
              "      <td>Men</td>\n",
              "      <td>100M Freestyle</td>\n",
              "      <td>Gold</td>\n",
              "    </tr>\n",
              "    <tr>\n",
              "      <th>1</th>\n",
              "      <td>1896</td>\n",
              "      <td>Athens</td>\n",
              "      <td>Aquatics</td>\n",
              "      <td>Swimming</td>\n",
              "      <td>HERSCHMANN, Otto</td>\n",
              "      <td>AUT</td>\n",
              "      <td>Men</td>\n",
              "      <td>100M Freestyle</td>\n",
              "      <td>Silver</td>\n",
              "    </tr>\n",
              "    <tr>\n",
              "      <th>2</th>\n",
              "      <td>1896</td>\n",
              "      <td>Athens</td>\n",
              "      <td>Aquatics</td>\n",
              "      <td>Swimming</td>\n",
              "      <td>DRIVAS, Dimitrios</td>\n",
              "      <td>GRE</td>\n",
              "      <td>Men</td>\n",
              "      <td>100M Freestyle For Sailors</td>\n",
              "      <td>Bronze</td>\n",
              "    </tr>\n",
              "    <tr>\n",
              "      <th>3</th>\n",
              "      <td>1896</td>\n",
              "      <td>Athens</td>\n",
              "      <td>Aquatics</td>\n",
              "      <td>Swimming</td>\n",
              "      <td>MALOKINIS, Ioannis</td>\n",
              "      <td>GRE</td>\n",
              "      <td>Men</td>\n",
              "      <td>100M Freestyle For Sailors</td>\n",
              "      <td>Gold</td>\n",
              "    </tr>\n",
              "    <tr>\n",
              "      <th>4</th>\n",
              "      <td>1896</td>\n",
              "      <td>Athens</td>\n",
              "      <td>Aquatics</td>\n",
              "      <td>Swimming</td>\n",
              "      <td>CHASAPIS, Spiridon</td>\n",
              "      <td>GRE</td>\n",
              "      <td>Men</td>\n",
              "      <td>100M Freestyle For Sailors</td>\n",
              "      <td>Silver</td>\n",
              "    </tr>\n",
              "    <tr>\n",
              "      <th>...</th>\n",
              "      <td>...</td>\n",
              "      <td>...</td>\n",
              "      <td>...</td>\n",
              "      <td>...</td>\n",
              "      <td>...</td>\n",
              "      <td>...</td>\n",
              "      <td>...</td>\n",
              "      <td>...</td>\n",
              "      <td>...</td>\n",
              "    </tr>\n",
              "    <tr>\n",
              "      <th>31160</th>\n",
              "      <td>2012</td>\n",
              "      <td>London</td>\n",
              "      <td>Wrestling</td>\n",
              "      <td>Wrestling Freestyle</td>\n",
              "      <td>JANIKOWSKI, Damian</td>\n",
              "      <td>POL</td>\n",
              "      <td>Men</td>\n",
              "      <td>Wg 84 KG</td>\n",
              "      <td>Bronze</td>\n",
              "    </tr>\n",
              "    <tr>\n",
              "      <th>31161</th>\n",
              "      <td>2012</td>\n",
              "      <td>London</td>\n",
              "      <td>Wrestling</td>\n",
              "      <td>Wrestling Freestyle</td>\n",
              "      <td>REZAEI, Ghasem Gholamreza</td>\n",
              "      <td>IRI</td>\n",
              "      <td>Men</td>\n",
              "      <td>Wg 96 KG</td>\n",
              "      <td>Gold</td>\n",
              "    </tr>\n",
              "    <tr>\n",
              "      <th>31162</th>\n",
              "      <td>2012</td>\n",
              "      <td>London</td>\n",
              "      <td>Wrestling</td>\n",
              "      <td>Wrestling Freestyle</td>\n",
              "      <td>TOTROV, Rustam</td>\n",
              "      <td>RUS</td>\n",
              "      <td>Men</td>\n",
              "      <td>Wg 96 KG</td>\n",
              "      <td>Silver</td>\n",
              "    </tr>\n",
              "    <tr>\n",
              "      <th>31163</th>\n",
              "      <td>2012</td>\n",
              "      <td>London</td>\n",
              "      <td>Wrestling</td>\n",
              "      <td>Wrestling Freestyle</td>\n",
              "      <td>ALEKSANYAN, Artur</td>\n",
              "      <td>ARM</td>\n",
              "      <td>Men</td>\n",
              "      <td>Wg 96 KG</td>\n",
              "      <td>Bronze</td>\n",
              "    </tr>\n",
              "    <tr>\n",
              "      <th>31164</th>\n",
              "      <td>2012</td>\n",
              "      <td>London</td>\n",
              "      <td>Wrestling</td>\n",
              "      <td>Wrestling Freestyle</td>\n",
              "      <td>LIDBERG, Jimmy</td>\n",
              "      <td>SWE</td>\n",
              "      <td>Men</td>\n",
              "      <td>Wg 96 KG</td>\n",
              "      <td>Bronze</td>\n",
              "    </tr>\n",
              "  </tbody>\n",
              "</table>\n",
              "<p>31165 rows × 9 columns</p>\n",
              "</div>"
            ],
            "text/plain": [
              "       Year    City      Sport  ... Gender                       Event   Medal\n",
              "0      1896  Athens   Aquatics  ...    Men              100M Freestyle    Gold\n",
              "1      1896  Athens   Aquatics  ...    Men              100M Freestyle  Silver\n",
              "2      1896  Athens   Aquatics  ...    Men  100M Freestyle For Sailors  Bronze\n",
              "3      1896  Athens   Aquatics  ...    Men  100M Freestyle For Sailors    Gold\n",
              "4      1896  Athens   Aquatics  ...    Men  100M Freestyle For Sailors  Silver\n",
              "...     ...     ...        ...  ...    ...                         ...     ...\n",
              "31160  2012  London  Wrestling  ...    Men                    Wg 84 KG  Bronze\n",
              "31161  2012  London  Wrestling  ...    Men                    Wg 96 KG    Gold\n",
              "31162  2012  London  Wrestling  ...    Men                    Wg 96 KG  Silver\n",
              "31163  2012  London  Wrestling  ...    Men                    Wg 96 KG  Bronze\n",
              "31164  2012  London  Wrestling  ...    Men                    Wg 96 KG  Bronze\n",
              "\n",
              "[31165 rows x 9 columns]"
            ]
          },
          "metadata": {},
          "execution_count": 194
        }
      ]
    },
    {
      "cell_type": "code",
      "metadata": {
        "id": "wfxn3suc81aG",
        "colab": {
          "base_uri": "https://localhost:8080/",
          "height": 203
        },
        "outputId": "3a1ef70e-4fb2-42ba-de9d-9b46d0d88dfb"
      },
      "source": [
        "summer_df.head()"
      ],
      "execution_count": 195,
      "outputs": [
        {
          "output_type": "execute_result",
          "data": {
            "text/html": [
              "<div>\n",
              "<style scoped>\n",
              "    .dataframe tbody tr th:only-of-type {\n",
              "        vertical-align: middle;\n",
              "    }\n",
              "\n",
              "    .dataframe tbody tr th {\n",
              "        vertical-align: top;\n",
              "    }\n",
              "\n",
              "    .dataframe thead th {\n",
              "        text-align: right;\n",
              "    }\n",
              "</style>\n",
              "<table border=\"1\" class=\"dataframe\">\n",
              "  <thead>\n",
              "    <tr style=\"text-align: right;\">\n",
              "      <th></th>\n",
              "      <th>Year</th>\n",
              "      <th>City</th>\n",
              "      <th>Sport</th>\n",
              "      <th>Discipline</th>\n",
              "      <th>Athlete</th>\n",
              "      <th>Country</th>\n",
              "      <th>Gender</th>\n",
              "      <th>Event</th>\n",
              "      <th>Medal</th>\n",
              "    </tr>\n",
              "  </thead>\n",
              "  <tbody>\n",
              "    <tr>\n",
              "      <th>0</th>\n",
              "      <td>1896</td>\n",
              "      <td>Athens</td>\n",
              "      <td>Aquatics</td>\n",
              "      <td>Swimming</td>\n",
              "      <td>HAJOS, Alfred</td>\n",
              "      <td>HUN</td>\n",
              "      <td>Men</td>\n",
              "      <td>100M Freestyle</td>\n",
              "      <td>Gold</td>\n",
              "    </tr>\n",
              "    <tr>\n",
              "      <th>1</th>\n",
              "      <td>1896</td>\n",
              "      <td>Athens</td>\n",
              "      <td>Aquatics</td>\n",
              "      <td>Swimming</td>\n",
              "      <td>HERSCHMANN, Otto</td>\n",
              "      <td>AUT</td>\n",
              "      <td>Men</td>\n",
              "      <td>100M Freestyle</td>\n",
              "      <td>Silver</td>\n",
              "    </tr>\n",
              "    <tr>\n",
              "      <th>2</th>\n",
              "      <td>1896</td>\n",
              "      <td>Athens</td>\n",
              "      <td>Aquatics</td>\n",
              "      <td>Swimming</td>\n",
              "      <td>DRIVAS, Dimitrios</td>\n",
              "      <td>GRE</td>\n",
              "      <td>Men</td>\n",
              "      <td>100M Freestyle For Sailors</td>\n",
              "      <td>Bronze</td>\n",
              "    </tr>\n",
              "    <tr>\n",
              "      <th>3</th>\n",
              "      <td>1896</td>\n",
              "      <td>Athens</td>\n",
              "      <td>Aquatics</td>\n",
              "      <td>Swimming</td>\n",
              "      <td>MALOKINIS, Ioannis</td>\n",
              "      <td>GRE</td>\n",
              "      <td>Men</td>\n",
              "      <td>100M Freestyle For Sailors</td>\n",
              "      <td>Gold</td>\n",
              "    </tr>\n",
              "    <tr>\n",
              "      <th>4</th>\n",
              "      <td>1896</td>\n",
              "      <td>Athens</td>\n",
              "      <td>Aquatics</td>\n",
              "      <td>Swimming</td>\n",
              "      <td>CHASAPIS, Spiridon</td>\n",
              "      <td>GRE</td>\n",
              "      <td>Men</td>\n",
              "      <td>100M Freestyle For Sailors</td>\n",
              "      <td>Silver</td>\n",
              "    </tr>\n",
              "  </tbody>\n",
              "</table>\n",
              "</div>"
            ],
            "text/plain": [
              "   Year    City     Sport  ... Gender                       Event   Medal\n",
              "0  1896  Athens  Aquatics  ...    Men              100M Freestyle    Gold\n",
              "1  1896  Athens  Aquatics  ...    Men              100M Freestyle  Silver\n",
              "2  1896  Athens  Aquatics  ...    Men  100M Freestyle For Sailors  Bronze\n",
              "3  1896  Athens  Aquatics  ...    Men  100M Freestyle For Sailors    Gold\n",
              "4  1896  Athens  Aquatics  ...    Men  100M Freestyle For Sailors  Silver\n",
              "\n",
              "[5 rows x 9 columns]"
            ]
          },
          "metadata": {},
          "execution_count": 195
        }
      ]
    },
    {
      "cell_type": "code",
      "metadata": {
        "id": "2BoZsLom81ja",
        "colab": {
          "base_uri": "https://localhost:8080/",
          "height": 203
        },
        "outputId": "915f0d46-420c-42ae-80c7-7d0a94d75514"
      },
      "source": [
        "winter_df.head()"
      ],
      "execution_count": 196,
      "outputs": [
        {
          "output_type": "execute_result",
          "data": {
            "text/html": [
              "<div>\n",
              "<style scoped>\n",
              "    .dataframe tbody tr th:only-of-type {\n",
              "        vertical-align: middle;\n",
              "    }\n",
              "\n",
              "    .dataframe tbody tr th {\n",
              "        vertical-align: top;\n",
              "    }\n",
              "\n",
              "    .dataframe thead th {\n",
              "        text-align: right;\n",
              "    }\n",
              "</style>\n",
              "<table border=\"1\" class=\"dataframe\">\n",
              "  <thead>\n",
              "    <tr style=\"text-align: right;\">\n",
              "      <th></th>\n",
              "      <th>Year</th>\n",
              "      <th>City</th>\n",
              "      <th>Sport</th>\n",
              "      <th>Discipline</th>\n",
              "      <th>Athlete</th>\n",
              "      <th>Country</th>\n",
              "      <th>Gender</th>\n",
              "      <th>Event</th>\n",
              "      <th>Medal</th>\n",
              "    </tr>\n",
              "  </thead>\n",
              "  <tbody>\n",
              "    <tr>\n",
              "      <th>0</th>\n",
              "      <td>1924</td>\n",
              "      <td>Chamonix</td>\n",
              "      <td>Biathlon</td>\n",
              "      <td>Biathlon</td>\n",
              "      <td>BERTHET, G.</td>\n",
              "      <td>FRA</td>\n",
              "      <td>Men</td>\n",
              "      <td>Military Patrol</td>\n",
              "      <td>Bronze</td>\n",
              "    </tr>\n",
              "    <tr>\n",
              "      <th>1</th>\n",
              "      <td>1924</td>\n",
              "      <td>Chamonix</td>\n",
              "      <td>Biathlon</td>\n",
              "      <td>Biathlon</td>\n",
              "      <td>MANDRILLON, C.</td>\n",
              "      <td>FRA</td>\n",
              "      <td>Men</td>\n",
              "      <td>Military Patrol</td>\n",
              "      <td>Bronze</td>\n",
              "    </tr>\n",
              "    <tr>\n",
              "      <th>2</th>\n",
              "      <td>1924</td>\n",
              "      <td>Chamonix</td>\n",
              "      <td>Biathlon</td>\n",
              "      <td>Biathlon</td>\n",
              "      <td>MANDRILLON, Maurice</td>\n",
              "      <td>FRA</td>\n",
              "      <td>Men</td>\n",
              "      <td>Military Patrol</td>\n",
              "      <td>Bronze</td>\n",
              "    </tr>\n",
              "    <tr>\n",
              "      <th>3</th>\n",
              "      <td>1924</td>\n",
              "      <td>Chamonix</td>\n",
              "      <td>Biathlon</td>\n",
              "      <td>Biathlon</td>\n",
              "      <td>VANDELLE, André</td>\n",
              "      <td>FRA</td>\n",
              "      <td>Men</td>\n",
              "      <td>Military Patrol</td>\n",
              "      <td>Bronze</td>\n",
              "    </tr>\n",
              "    <tr>\n",
              "      <th>4</th>\n",
              "      <td>1924</td>\n",
              "      <td>Chamonix</td>\n",
              "      <td>Biathlon</td>\n",
              "      <td>Biathlon</td>\n",
              "      <td>AUFDENBLATTEN, Adolf</td>\n",
              "      <td>SUI</td>\n",
              "      <td>Men</td>\n",
              "      <td>Military Patrol</td>\n",
              "      <td>Gold</td>\n",
              "    </tr>\n",
              "  </tbody>\n",
              "</table>\n",
              "</div>"
            ],
            "text/plain": [
              "   Year      City     Sport Discipline  ... Country Gender            Event   Medal\n",
              "0  1924  Chamonix  Biathlon   Biathlon  ...     FRA    Men  Military Patrol  Bronze\n",
              "1  1924  Chamonix  Biathlon   Biathlon  ...     FRA    Men  Military Patrol  Bronze\n",
              "2  1924  Chamonix  Biathlon   Biathlon  ...     FRA    Men  Military Patrol  Bronze\n",
              "3  1924  Chamonix  Biathlon   Biathlon  ...     FRA    Men  Military Patrol  Bronze\n",
              "4  1924  Chamonix  Biathlon   Biathlon  ...     SUI    Men  Military Patrol    Gold\n",
              "\n",
              "[5 rows x 9 columns]"
            ]
          },
          "metadata": {},
          "execution_count": 196
        }
      ]
    },
    {
      "cell_type": "markdown",
      "metadata": {
        "id": "tdTaCAdr_OTs"
      },
      "source": [
        "### **OBSERVATIONS**\n",
        "Here are my observations from the three datasets:\n",
        "\n",
        "I'm going to grouped the datasets into two, i.e \n",
        "1. Summer Olympics\n",
        "2. Winter Olympics\n",
        "\n",
        "I'II merge Summer and dict dataframe to have Summer Olympics\n",
        "\n",
        "Also, I'II merge Winter and dict dataframe to have Winter Olympics\n",
        "\n",
        "Looking at the three datasets, I noticed column \"Code\" from dict dataframe and column \"Country\" from winter and summer dataframe are kind of similar. Now, Since I want to merge the dataframe, the best approach is to change the column \"Country\" in Winter nad Summer to \"Code\" so that i can merge them."
      ]
    },
    {
      "cell_type": "code",
      "metadata": {
        "id": "uu2ODBSW9Jl0"
      },
      "source": [
        "#To change the feature country to code\n",
        "summer_df.rename(columns={\"Country\": \"Code\"}, inplace =True)\n",
        "winter_df.rename(columns={\"Country\": \"Code\"}, inplace =True)"
      ],
      "execution_count": 197,
      "outputs": []
    },
    {
      "cell_type": "code",
      "metadata": {
        "id": "OCGVaNNY9JoJ",
        "colab": {
          "base_uri": "https://localhost:8080/",
          "height": 203
        },
        "outputId": "10f74a99-40aa-485c-cd81-52611e2353c6"
      },
      "source": [
        "summer_df.head() #To see  the changes"
      ],
      "execution_count": 198,
      "outputs": [
        {
          "output_type": "execute_result",
          "data": {
            "text/html": [
              "<div>\n",
              "<style scoped>\n",
              "    .dataframe tbody tr th:only-of-type {\n",
              "        vertical-align: middle;\n",
              "    }\n",
              "\n",
              "    .dataframe tbody tr th {\n",
              "        vertical-align: top;\n",
              "    }\n",
              "\n",
              "    .dataframe thead th {\n",
              "        text-align: right;\n",
              "    }\n",
              "</style>\n",
              "<table border=\"1\" class=\"dataframe\">\n",
              "  <thead>\n",
              "    <tr style=\"text-align: right;\">\n",
              "      <th></th>\n",
              "      <th>Year</th>\n",
              "      <th>City</th>\n",
              "      <th>Sport</th>\n",
              "      <th>Discipline</th>\n",
              "      <th>Athlete</th>\n",
              "      <th>Code</th>\n",
              "      <th>Gender</th>\n",
              "      <th>Event</th>\n",
              "      <th>Medal</th>\n",
              "    </tr>\n",
              "  </thead>\n",
              "  <tbody>\n",
              "    <tr>\n",
              "      <th>0</th>\n",
              "      <td>1896</td>\n",
              "      <td>Athens</td>\n",
              "      <td>Aquatics</td>\n",
              "      <td>Swimming</td>\n",
              "      <td>HAJOS, Alfred</td>\n",
              "      <td>HUN</td>\n",
              "      <td>Men</td>\n",
              "      <td>100M Freestyle</td>\n",
              "      <td>Gold</td>\n",
              "    </tr>\n",
              "    <tr>\n",
              "      <th>1</th>\n",
              "      <td>1896</td>\n",
              "      <td>Athens</td>\n",
              "      <td>Aquatics</td>\n",
              "      <td>Swimming</td>\n",
              "      <td>HERSCHMANN, Otto</td>\n",
              "      <td>AUT</td>\n",
              "      <td>Men</td>\n",
              "      <td>100M Freestyle</td>\n",
              "      <td>Silver</td>\n",
              "    </tr>\n",
              "    <tr>\n",
              "      <th>2</th>\n",
              "      <td>1896</td>\n",
              "      <td>Athens</td>\n",
              "      <td>Aquatics</td>\n",
              "      <td>Swimming</td>\n",
              "      <td>DRIVAS, Dimitrios</td>\n",
              "      <td>GRE</td>\n",
              "      <td>Men</td>\n",
              "      <td>100M Freestyle For Sailors</td>\n",
              "      <td>Bronze</td>\n",
              "    </tr>\n",
              "    <tr>\n",
              "      <th>3</th>\n",
              "      <td>1896</td>\n",
              "      <td>Athens</td>\n",
              "      <td>Aquatics</td>\n",
              "      <td>Swimming</td>\n",
              "      <td>MALOKINIS, Ioannis</td>\n",
              "      <td>GRE</td>\n",
              "      <td>Men</td>\n",
              "      <td>100M Freestyle For Sailors</td>\n",
              "      <td>Gold</td>\n",
              "    </tr>\n",
              "    <tr>\n",
              "      <th>4</th>\n",
              "      <td>1896</td>\n",
              "      <td>Athens</td>\n",
              "      <td>Aquatics</td>\n",
              "      <td>Swimming</td>\n",
              "      <td>CHASAPIS, Spiridon</td>\n",
              "      <td>GRE</td>\n",
              "      <td>Men</td>\n",
              "      <td>100M Freestyle For Sailors</td>\n",
              "      <td>Silver</td>\n",
              "    </tr>\n",
              "  </tbody>\n",
              "</table>\n",
              "</div>"
            ],
            "text/plain": [
              "   Year    City     Sport  ... Gender                       Event   Medal\n",
              "0  1896  Athens  Aquatics  ...    Men              100M Freestyle    Gold\n",
              "1  1896  Athens  Aquatics  ...    Men              100M Freestyle  Silver\n",
              "2  1896  Athens  Aquatics  ...    Men  100M Freestyle For Sailors  Bronze\n",
              "3  1896  Athens  Aquatics  ...    Men  100M Freestyle For Sailors    Gold\n",
              "4  1896  Athens  Aquatics  ...    Men  100M Freestyle For Sailors  Silver\n",
              "\n",
              "[5 rows x 9 columns]"
            ]
          },
          "metadata": {},
          "execution_count": 198
        }
      ]
    },
    {
      "cell_type": "markdown",
      "metadata": {
        "id": "M-wYDkT3_rxW"
      },
      "source": [
        "\n",
        "From the code above, we now have two datasets, Winter Olympics and Summer Olympics. First, I'II be working on the-\n",
        "### **SUMMER OLYMPICS** "
      ]
    },
    {
      "cell_type": "code",
      "metadata": {
        "id": "S15dWtwo9Jsp",
        "colab": {
          "base_uri": "https://localhost:8080/",
          "height": 295
        },
        "outputId": "7b790a18-be5d-4065-e77b-e9843d2f7c03"
      },
      "source": [
        "#Check the describtion of the numeric features\n",
        "summer_df.describe()"
      ],
      "execution_count": 199,
      "outputs": [
        {
          "output_type": "execute_result",
          "data": {
            "text/html": [
              "<div>\n",
              "<style scoped>\n",
              "    .dataframe tbody tr th:only-of-type {\n",
              "        vertical-align: middle;\n",
              "    }\n",
              "\n",
              "    .dataframe tbody tr th {\n",
              "        vertical-align: top;\n",
              "    }\n",
              "\n",
              "    .dataframe thead th {\n",
              "        text-align: right;\n",
              "    }\n",
              "</style>\n",
              "<table border=\"1\" class=\"dataframe\">\n",
              "  <thead>\n",
              "    <tr style=\"text-align: right;\">\n",
              "      <th></th>\n",
              "      <th>Year</th>\n",
              "    </tr>\n",
              "  </thead>\n",
              "  <tbody>\n",
              "    <tr>\n",
              "      <th>count</th>\n",
              "      <td>31165.000000</td>\n",
              "    </tr>\n",
              "    <tr>\n",
              "      <th>mean</th>\n",
              "      <td>1970.482785</td>\n",
              "    </tr>\n",
              "    <tr>\n",
              "      <th>std</th>\n",
              "      <td>33.158416</td>\n",
              "    </tr>\n",
              "    <tr>\n",
              "      <th>min</th>\n",
              "      <td>1896.000000</td>\n",
              "    </tr>\n",
              "    <tr>\n",
              "      <th>25%</th>\n",
              "      <td>1948.000000</td>\n",
              "    </tr>\n",
              "    <tr>\n",
              "      <th>50%</th>\n",
              "      <td>1980.000000</td>\n",
              "    </tr>\n",
              "    <tr>\n",
              "      <th>75%</th>\n",
              "      <td>2000.000000</td>\n",
              "    </tr>\n",
              "    <tr>\n",
              "      <th>max</th>\n",
              "      <td>2012.000000</td>\n",
              "    </tr>\n",
              "  </tbody>\n",
              "</table>\n",
              "</div>"
            ],
            "text/plain": [
              "               Year\n",
              "count  31165.000000\n",
              "mean    1970.482785\n",
              "std       33.158416\n",
              "min     1896.000000\n",
              "25%     1948.000000\n",
              "50%     1980.000000\n",
              "75%     2000.000000\n",
              "max     2012.000000"
            ]
          },
          "metadata": {},
          "execution_count": 199
        }
      ]
    },
    {
      "cell_type": "markdown",
      "metadata": {
        "id": "HuosBNT_DuDO"
      },
      "source": [
        "From the code above, the dataset goes from 1896 t0 2012."
      ]
    },
    {
      "cell_type": "code",
      "metadata": {
        "id": "9eWg_Q62EDkr",
        "colab": {
          "base_uri": "https://localhost:8080/",
          "height": 172
        },
        "outputId": "8d213dcd-e471-40b7-d870-e92e58ae032f"
      },
      "source": [
        "#Check the describtion of the categorical  features\n",
        "summer_df.describe(include=['O'])"
      ],
      "execution_count": 200,
      "outputs": [
        {
          "output_type": "execute_result",
          "data": {
            "text/html": [
              "<div>\n",
              "<style scoped>\n",
              "    .dataframe tbody tr th:only-of-type {\n",
              "        vertical-align: middle;\n",
              "    }\n",
              "\n",
              "    .dataframe tbody tr th {\n",
              "        vertical-align: top;\n",
              "    }\n",
              "\n",
              "    .dataframe thead th {\n",
              "        text-align: right;\n",
              "    }\n",
              "</style>\n",
              "<table border=\"1\" class=\"dataframe\">\n",
              "  <thead>\n",
              "    <tr style=\"text-align: right;\">\n",
              "      <th></th>\n",
              "      <th>City</th>\n",
              "      <th>Sport</th>\n",
              "      <th>Discipline</th>\n",
              "      <th>Athlete</th>\n",
              "      <th>Code</th>\n",
              "      <th>Gender</th>\n",
              "      <th>Event</th>\n",
              "      <th>Medal</th>\n",
              "    </tr>\n",
              "  </thead>\n",
              "  <tbody>\n",
              "    <tr>\n",
              "      <th>count</th>\n",
              "      <td>31165</td>\n",
              "      <td>31165</td>\n",
              "      <td>31165</td>\n",
              "      <td>31165</td>\n",
              "      <td>31161</td>\n",
              "      <td>31165</td>\n",
              "      <td>31165</td>\n",
              "      <td>31165</td>\n",
              "    </tr>\n",
              "    <tr>\n",
              "      <th>unique</th>\n",
              "      <td>22</td>\n",
              "      <td>43</td>\n",
              "      <td>67</td>\n",
              "      <td>22762</td>\n",
              "      <td>147</td>\n",
              "      <td>2</td>\n",
              "      <td>666</td>\n",
              "      <td>3</td>\n",
              "    </tr>\n",
              "    <tr>\n",
              "      <th>top</th>\n",
              "      <td>London</td>\n",
              "      <td>Aquatics</td>\n",
              "      <td>Athletics</td>\n",
              "      <td>PHELPS, Michael</td>\n",
              "      <td>USA</td>\n",
              "      <td>Men</td>\n",
              "      <td>Football</td>\n",
              "      <td>Gold</td>\n",
              "    </tr>\n",
              "    <tr>\n",
              "      <th>freq</th>\n",
              "      <td>3567</td>\n",
              "      <td>4170</td>\n",
              "      <td>3638</td>\n",
              "      <td>22</td>\n",
              "      <td>4585</td>\n",
              "      <td>22746</td>\n",
              "      <td>1497</td>\n",
              "      <td>10486</td>\n",
              "    </tr>\n",
              "  </tbody>\n",
              "</table>\n",
              "</div>"
            ],
            "text/plain": [
              "          City     Sport Discipline  ... Gender     Event  Medal\n",
              "count    31165     31165      31165  ...  31165     31165  31165\n",
              "unique      22        43         67  ...      2       666      3\n",
              "top     London  Aquatics  Athletics  ...    Men  Football   Gold\n",
              "freq      3567      4170       3638  ...  22746      1497  10486\n",
              "\n",
              "[4 rows x 8 columns]"
            ]
          },
          "metadata": {},
          "execution_count": 200
        }
      ]
    },
    {
      "cell_type": "markdown",
      "metadata": {
        "id": "ZAXZIIJiEEpz"
      },
      "source": [
        "**Observations**\n",
        "\n",
        "* USA has the highest number of medal\n",
        "* London has the majority of the medal where the game was hosted \n",
        "* The sport Aquatics has the majority of the medals\n",
        "  \n",
        "\n"
      ]
    },
    {
      "cell_type": "code",
      "metadata": {
        "id": "xZoKmdjb9JvX",
        "colab": {
          "base_uri": "https://localhost:8080/"
        },
        "outputId": "f4d0a8b6-c67e-4269-af08-c1aa3827e6d6"
      },
      "source": [
        "#To see the summary of the datatypes\n",
        "summer_df.info()"
      ],
      "execution_count": 201,
      "outputs": [
        {
          "output_type": "stream",
          "name": "stdout",
          "text": [
            "<class 'pandas.core.frame.DataFrame'>\n",
            "RangeIndex: 31165 entries, 0 to 31164\n",
            "Data columns (total 9 columns):\n",
            " #   Column      Non-Null Count  Dtype \n",
            "---  ------      --------------  ----- \n",
            " 0   Year        31165 non-null  int64 \n",
            " 1   City        31165 non-null  object\n",
            " 2   Sport       31165 non-null  object\n",
            " 3   Discipline  31165 non-null  object\n",
            " 4   Athlete     31165 non-null  object\n",
            " 5   Code        31161 non-null  object\n",
            " 6   Gender      31165 non-null  object\n",
            " 7   Event       31165 non-null  object\n",
            " 8   Medal       31165 non-null  object\n",
            "dtypes: int64(1), object(8)\n",
            "memory usage: 2.1+ MB\n"
          ]
        }
      ]
    },
    {
      "cell_type": "markdown",
      "metadata": {
        "id": "qTn_19FBB7DV"
      },
      "source": [
        "### **SUMMER DATASET DESCRIPTION**\n",
        "***Features and Description:***\n",
        "\n",
        "1. **Country** : The country that participated in the Olympics code\n",
        "\n",
        "2. **Code** : The abbreviation of the country\n",
        "\n",
        "3. **Population** : Numbers of population that was present for the olympics\n",
        "\n",
        "4. **GDP per Capita**\n",
        "\n",
        "5. **Year** : The year of the olympics games\n",
        "\n",
        "6. **City** : The City that host the games\n",
        "\n",
        "7. **Sport** : The kind of sport that happened in the games\n",
        "\n",
        "8. **Discpline** : Specialization of the type of sport that Atlete contetsted for.\n",
        "\n",
        "9. **Gender** : Contestant that was present 1.e Male or Female\n",
        "\n",
        "10. **Event** : Events in the Olympics\n",
        "\n",
        "11. **Medal** : Awards presented to the Winner. Gold, Silver or Bronze."
      ]
    },
    {
      "cell_type": "code",
      "metadata": {
        "id": "Ghbkg-lRBTdX",
        "colab": {
          "base_uri": "https://localhost:8080/",
          "height": 203
        },
        "outputId": "49a50a7c-5524-47f7-bd6f-39fe27ce337c"
      },
      "source": [
        "#To see first few rows\n",
        "summer_df.head()"
      ],
      "execution_count": 202,
      "outputs": [
        {
          "output_type": "execute_result",
          "data": {
            "text/html": [
              "<div>\n",
              "<style scoped>\n",
              "    .dataframe tbody tr th:only-of-type {\n",
              "        vertical-align: middle;\n",
              "    }\n",
              "\n",
              "    .dataframe tbody tr th {\n",
              "        vertical-align: top;\n",
              "    }\n",
              "\n",
              "    .dataframe thead th {\n",
              "        text-align: right;\n",
              "    }\n",
              "</style>\n",
              "<table border=\"1\" class=\"dataframe\">\n",
              "  <thead>\n",
              "    <tr style=\"text-align: right;\">\n",
              "      <th></th>\n",
              "      <th>Year</th>\n",
              "      <th>City</th>\n",
              "      <th>Sport</th>\n",
              "      <th>Discipline</th>\n",
              "      <th>Athlete</th>\n",
              "      <th>Code</th>\n",
              "      <th>Gender</th>\n",
              "      <th>Event</th>\n",
              "      <th>Medal</th>\n",
              "    </tr>\n",
              "  </thead>\n",
              "  <tbody>\n",
              "    <tr>\n",
              "      <th>0</th>\n",
              "      <td>1896</td>\n",
              "      <td>Athens</td>\n",
              "      <td>Aquatics</td>\n",
              "      <td>Swimming</td>\n",
              "      <td>HAJOS, Alfred</td>\n",
              "      <td>HUN</td>\n",
              "      <td>Men</td>\n",
              "      <td>100M Freestyle</td>\n",
              "      <td>Gold</td>\n",
              "    </tr>\n",
              "    <tr>\n",
              "      <th>1</th>\n",
              "      <td>1896</td>\n",
              "      <td>Athens</td>\n",
              "      <td>Aquatics</td>\n",
              "      <td>Swimming</td>\n",
              "      <td>HERSCHMANN, Otto</td>\n",
              "      <td>AUT</td>\n",
              "      <td>Men</td>\n",
              "      <td>100M Freestyle</td>\n",
              "      <td>Silver</td>\n",
              "    </tr>\n",
              "    <tr>\n",
              "      <th>2</th>\n",
              "      <td>1896</td>\n",
              "      <td>Athens</td>\n",
              "      <td>Aquatics</td>\n",
              "      <td>Swimming</td>\n",
              "      <td>DRIVAS, Dimitrios</td>\n",
              "      <td>GRE</td>\n",
              "      <td>Men</td>\n",
              "      <td>100M Freestyle For Sailors</td>\n",
              "      <td>Bronze</td>\n",
              "    </tr>\n",
              "    <tr>\n",
              "      <th>3</th>\n",
              "      <td>1896</td>\n",
              "      <td>Athens</td>\n",
              "      <td>Aquatics</td>\n",
              "      <td>Swimming</td>\n",
              "      <td>MALOKINIS, Ioannis</td>\n",
              "      <td>GRE</td>\n",
              "      <td>Men</td>\n",
              "      <td>100M Freestyle For Sailors</td>\n",
              "      <td>Gold</td>\n",
              "    </tr>\n",
              "    <tr>\n",
              "      <th>4</th>\n",
              "      <td>1896</td>\n",
              "      <td>Athens</td>\n",
              "      <td>Aquatics</td>\n",
              "      <td>Swimming</td>\n",
              "      <td>CHASAPIS, Spiridon</td>\n",
              "      <td>GRE</td>\n",
              "      <td>Men</td>\n",
              "      <td>100M Freestyle For Sailors</td>\n",
              "      <td>Silver</td>\n",
              "    </tr>\n",
              "  </tbody>\n",
              "</table>\n",
              "</div>"
            ],
            "text/plain": [
              "   Year    City     Sport  ... Gender                       Event   Medal\n",
              "0  1896  Athens  Aquatics  ...    Men              100M Freestyle    Gold\n",
              "1  1896  Athens  Aquatics  ...    Men              100M Freestyle  Silver\n",
              "2  1896  Athens  Aquatics  ...    Men  100M Freestyle For Sailors  Bronze\n",
              "3  1896  Athens  Aquatics  ...    Men  100M Freestyle For Sailors    Gold\n",
              "4  1896  Athens  Aquatics  ...    Men  100M Freestyle For Sailors  Silver\n",
              "\n",
              "[5 rows x 9 columns]"
            ]
          },
          "metadata": {},
          "execution_count": 202
        }
      ]
    },
    {
      "cell_type": "code",
      "metadata": {
        "id": "RSd1h2tLBTgd",
        "colab": {
          "base_uri": "https://localhost:8080/",
          "height": 203
        },
        "outputId": "aecf1f0c-a38e-44e7-a7ff-e4482e20c98e"
      },
      "source": [
        "#To see the last few rows\n",
        "summer_df.tail()"
      ],
      "execution_count": 203,
      "outputs": [
        {
          "output_type": "execute_result",
          "data": {
            "text/html": [
              "<div>\n",
              "<style scoped>\n",
              "    .dataframe tbody tr th:only-of-type {\n",
              "        vertical-align: middle;\n",
              "    }\n",
              "\n",
              "    .dataframe tbody tr th {\n",
              "        vertical-align: top;\n",
              "    }\n",
              "\n",
              "    .dataframe thead th {\n",
              "        text-align: right;\n",
              "    }\n",
              "</style>\n",
              "<table border=\"1\" class=\"dataframe\">\n",
              "  <thead>\n",
              "    <tr style=\"text-align: right;\">\n",
              "      <th></th>\n",
              "      <th>Year</th>\n",
              "      <th>City</th>\n",
              "      <th>Sport</th>\n",
              "      <th>Discipline</th>\n",
              "      <th>Athlete</th>\n",
              "      <th>Code</th>\n",
              "      <th>Gender</th>\n",
              "      <th>Event</th>\n",
              "      <th>Medal</th>\n",
              "    </tr>\n",
              "  </thead>\n",
              "  <tbody>\n",
              "    <tr>\n",
              "      <th>31160</th>\n",
              "      <td>2012</td>\n",
              "      <td>London</td>\n",
              "      <td>Wrestling</td>\n",
              "      <td>Wrestling Freestyle</td>\n",
              "      <td>JANIKOWSKI, Damian</td>\n",
              "      <td>POL</td>\n",
              "      <td>Men</td>\n",
              "      <td>Wg 84 KG</td>\n",
              "      <td>Bronze</td>\n",
              "    </tr>\n",
              "    <tr>\n",
              "      <th>31161</th>\n",
              "      <td>2012</td>\n",
              "      <td>London</td>\n",
              "      <td>Wrestling</td>\n",
              "      <td>Wrestling Freestyle</td>\n",
              "      <td>REZAEI, Ghasem Gholamreza</td>\n",
              "      <td>IRI</td>\n",
              "      <td>Men</td>\n",
              "      <td>Wg 96 KG</td>\n",
              "      <td>Gold</td>\n",
              "    </tr>\n",
              "    <tr>\n",
              "      <th>31162</th>\n",
              "      <td>2012</td>\n",
              "      <td>London</td>\n",
              "      <td>Wrestling</td>\n",
              "      <td>Wrestling Freestyle</td>\n",
              "      <td>TOTROV, Rustam</td>\n",
              "      <td>RUS</td>\n",
              "      <td>Men</td>\n",
              "      <td>Wg 96 KG</td>\n",
              "      <td>Silver</td>\n",
              "    </tr>\n",
              "    <tr>\n",
              "      <th>31163</th>\n",
              "      <td>2012</td>\n",
              "      <td>London</td>\n",
              "      <td>Wrestling</td>\n",
              "      <td>Wrestling Freestyle</td>\n",
              "      <td>ALEKSANYAN, Artur</td>\n",
              "      <td>ARM</td>\n",
              "      <td>Men</td>\n",
              "      <td>Wg 96 KG</td>\n",
              "      <td>Bronze</td>\n",
              "    </tr>\n",
              "    <tr>\n",
              "      <th>31164</th>\n",
              "      <td>2012</td>\n",
              "      <td>London</td>\n",
              "      <td>Wrestling</td>\n",
              "      <td>Wrestling Freestyle</td>\n",
              "      <td>LIDBERG, Jimmy</td>\n",
              "      <td>SWE</td>\n",
              "      <td>Men</td>\n",
              "      <td>Wg 96 KG</td>\n",
              "      <td>Bronze</td>\n",
              "    </tr>\n",
              "  </tbody>\n",
              "</table>\n",
              "</div>"
            ],
            "text/plain": [
              "       Year    City      Sport  ... Gender     Event   Medal\n",
              "31160  2012  London  Wrestling  ...    Men  Wg 84 KG  Bronze\n",
              "31161  2012  London  Wrestling  ...    Men  Wg 96 KG    Gold\n",
              "31162  2012  London  Wrestling  ...    Men  Wg 96 KG  Silver\n",
              "31163  2012  London  Wrestling  ...    Men  Wg 96 KG  Bronze\n",
              "31164  2012  London  Wrestling  ...    Men  Wg 96 KG  Bronze\n",
              "\n",
              "[5 rows x 9 columns]"
            ]
          },
          "metadata": {},
          "execution_count": 203
        }
      ]
    },
    {
      "cell_type": "code",
      "metadata": {
        "id": "q-iKkZCcDHY0",
        "colab": {
          "base_uri": "https://localhost:8080/"
        },
        "outputId": "fa14e16b-8cda-4ae7-8d63-740319123c72"
      },
      "source": [
        "summer_df.shape"
      ],
      "execution_count": 204,
      "outputs": [
        {
          "output_type": "execute_result",
          "data": {
            "text/plain": [
              "(31165, 9)"
            ]
          },
          "metadata": {},
          "execution_count": 204
        }
      ]
    },
    {
      "cell_type": "markdown",
      "metadata": {
        "id": "wypZ7yDxDPNq"
      },
      "source": [
        "From the above code, we have 31165 rows and 9 columns(features)"
      ]
    },
    {
      "cell_type": "code",
      "metadata": {
        "id": "VTcdaWbxDQ2f",
        "colab": {
          "base_uri": "https://localhost:8080/"
        },
        "outputId": "d83f4ba5-d54f-4a9a-8cb7-75e1ff32b688"
      },
      "source": [
        "#To check if the headers is well written\n",
        "summer_df.columns"
      ],
      "execution_count": 205,
      "outputs": [
        {
          "output_type": "execute_result",
          "data": {
            "text/plain": [
              "Index(['Year', 'City', 'Sport', 'Discipline', 'Athlete', 'Code', 'Gender',\n",
              "       'Event', 'Medal'],\n",
              "      dtype='object')"
            ]
          },
          "metadata": {},
          "execution_count": 205
        }
      ]
    },
    {
      "cell_type": "code",
      "metadata": {
        "id": "m_5IPpmtDRF5",
        "colab": {
          "base_uri": "https://localhost:8080/"
        },
        "outputId": "2a45a5cd-cfc2-48e5-cc33-e065399fc784"
      },
      "source": [
        "#Checking for the number of each data type----\n",
        "df_numeric = summer_df.select_dtypes(include='number') # extract columns with number\n",
        "num = len(df_numeric.columns) # sum the columns extracted\n",
        "print(f'We have {num} numeric columns') #format string\n",
        "\n",
        "df_obj = summer_df.select_dtypes(include='object')\n",
        "num_2 = len(df_obj.columns)\n",
        "print(f'we have {num_2} object columns')\n",
        "\n",
        "df_bool = summer_df.select_dtypes(include='bool')\n",
        "num_3 = len(df_bool.columns)\n",
        "print(f'we have {num_3} boolean columns')\n",
        "\n",
        "print(f'With a total number of {num + num_2 + num_3} columns')"
      ],
      "execution_count": 206,
      "outputs": [
        {
          "output_type": "stream",
          "name": "stdout",
          "text": [
            "We have 1 numeric columns\n",
            "we have 8 object columns\n",
            "we have 0 boolean columns\n",
            "With a total number of 9 columns\n"
          ]
        }
      ]
    },
    {
      "cell_type": "code",
      "metadata": {
        "id": "Zz5clxsRDn7X",
        "colab": {
          "base_uri": "https://localhost:8080/"
        },
        "outputId": "1684c351-ef81-4437-fecb-09541c734e4e"
      },
      "source": [
        "#To check if there is missing data in the datframe\n",
        "summer_df.isnull().values.any()"
      ],
      "execution_count": 207,
      "outputs": [
        {
          "output_type": "execute_result",
          "data": {
            "text/plain": [
              "True"
            ]
          },
          "metadata": {},
          "execution_count": 207
        }
      ]
    },
    {
      "cell_type": "markdown",
      "metadata": {
        "id": "WL2eN-RaExFw"
      },
      "source": [
        "\n",
        "From the above code we can see there are missing data in the dataframe. We need to find percentage of missing data and drop all neccesary rows or columns."
      ]
    },
    {
      "cell_type": "code",
      "metadata": {
        "id": "Jac1ydIXE0nh",
        "colab": {
          "base_uri": "https://localhost:8080/",
          "height": 326
        },
        "outputId": "6a53a7cb-0112-4896-853c-7641d0db3235"
      },
      "source": [
        "#Checking for the percentage of the missing data\n",
        "\n",
        "#creating a dataframe for percebtage of missing data\n",
        "percentage_of_missing_data = pd.DataFrame({'Percentage of Missing of Data':round((summer_df.isnull().sum()/len(summer_df.index)) * 100,2)}) \n",
        "percentage_of_missing_data = percentage_of_missing_data.sort_values(by='Percentage of Missing of Data',ascending=False)\n",
        "percentage_of_missing_data"
      ],
      "execution_count": 208,
      "outputs": [
        {
          "output_type": "execute_result",
          "data": {
            "text/html": [
              "<div>\n",
              "<style scoped>\n",
              "    .dataframe tbody tr th:only-of-type {\n",
              "        vertical-align: middle;\n",
              "    }\n",
              "\n",
              "    .dataframe tbody tr th {\n",
              "        vertical-align: top;\n",
              "    }\n",
              "\n",
              "    .dataframe thead th {\n",
              "        text-align: right;\n",
              "    }\n",
              "</style>\n",
              "<table border=\"1\" class=\"dataframe\">\n",
              "  <thead>\n",
              "    <tr style=\"text-align: right;\">\n",
              "      <th></th>\n",
              "      <th>Percentage of Missing of Data</th>\n",
              "    </tr>\n",
              "  </thead>\n",
              "  <tbody>\n",
              "    <tr>\n",
              "      <th>Code</th>\n",
              "      <td>0.01</td>\n",
              "    </tr>\n",
              "    <tr>\n",
              "      <th>Year</th>\n",
              "      <td>0.00</td>\n",
              "    </tr>\n",
              "    <tr>\n",
              "      <th>City</th>\n",
              "      <td>0.00</td>\n",
              "    </tr>\n",
              "    <tr>\n",
              "      <th>Sport</th>\n",
              "      <td>0.00</td>\n",
              "    </tr>\n",
              "    <tr>\n",
              "      <th>Discipline</th>\n",
              "      <td>0.00</td>\n",
              "    </tr>\n",
              "    <tr>\n",
              "      <th>Athlete</th>\n",
              "      <td>0.00</td>\n",
              "    </tr>\n",
              "    <tr>\n",
              "      <th>Gender</th>\n",
              "      <td>0.00</td>\n",
              "    </tr>\n",
              "    <tr>\n",
              "      <th>Event</th>\n",
              "      <td>0.00</td>\n",
              "    </tr>\n",
              "    <tr>\n",
              "      <th>Medal</th>\n",
              "      <td>0.00</td>\n",
              "    </tr>\n",
              "  </tbody>\n",
              "</table>\n",
              "</div>"
            ],
            "text/plain": [
              "            Percentage of Missing of Data\n",
              "Code                                 0.01\n",
              "Year                                 0.00\n",
              "City                                 0.00\n",
              "Sport                                0.00\n",
              "Discipline                           0.00\n",
              "Athlete                              0.00\n",
              "Gender                               0.00\n",
              "Event                                0.00\n",
              "Medal                                0.00"
            ]
          },
          "metadata": {},
          "execution_count": 208
        }
      ]
    },
    {
      "cell_type": "code",
      "metadata": {
        "id": "103kW-3hE3Rf",
        "colab": {
          "base_uri": "https://localhost:8080/",
          "height": 203
        },
        "outputId": "46a49d5b-39be-448a-b38c-038bf29bf10e"
      },
      "source": [
        "#We have small percentage of missing value (2.33%), we will drop rows with missing data.\n",
        "summer_df = summer_df.dropna()\n",
        "summer_df.head()"
      ],
      "execution_count": 209,
      "outputs": [
        {
          "output_type": "execute_result",
          "data": {
            "text/html": [
              "<div>\n",
              "<style scoped>\n",
              "    .dataframe tbody tr th:only-of-type {\n",
              "        vertical-align: middle;\n",
              "    }\n",
              "\n",
              "    .dataframe tbody tr th {\n",
              "        vertical-align: top;\n",
              "    }\n",
              "\n",
              "    .dataframe thead th {\n",
              "        text-align: right;\n",
              "    }\n",
              "</style>\n",
              "<table border=\"1\" class=\"dataframe\">\n",
              "  <thead>\n",
              "    <tr style=\"text-align: right;\">\n",
              "      <th></th>\n",
              "      <th>Year</th>\n",
              "      <th>City</th>\n",
              "      <th>Sport</th>\n",
              "      <th>Discipline</th>\n",
              "      <th>Athlete</th>\n",
              "      <th>Code</th>\n",
              "      <th>Gender</th>\n",
              "      <th>Event</th>\n",
              "      <th>Medal</th>\n",
              "    </tr>\n",
              "  </thead>\n",
              "  <tbody>\n",
              "    <tr>\n",
              "      <th>0</th>\n",
              "      <td>1896</td>\n",
              "      <td>Athens</td>\n",
              "      <td>Aquatics</td>\n",
              "      <td>Swimming</td>\n",
              "      <td>HAJOS, Alfred</td>\n",
              "      <td>HUN</td>\n",
              "      <td>Men</td>\n",
              "      <td>100M Freestyle</td>\n",
              "      <td>Gold</td>\n",
              "    </tr>\n",
              "    <tr>\n",
              "      <th>1</th>\n",
              "      <td>1896</td>\n",
              "      <td>Athens</td>\n",
              "      <td>Aquatics</td>\n",
              "      <td>Swimming</td>\n",
              "      <td>HERSCHMANN, Otto</td>\n",
              "      <td>AUT</td>\n",
              "      <td>Men</td>\n",
              "      <td>100M Freestyle</td>\n",
              "      <td>Silver</td>\n",
              "    </tr>\n",
              "    <tr>\n",
              "      <th>2</th>\n",
              "      <td>1896</td>\n",
              "      <td>Athens</td>\n",
              "      <td>Aquatics</td>\n",
              "      <td>Swimming</td>\n",
              "      <td>DRIVAS, Dimitrios</td>\n",
              "      <td>GRE</td>\n",
              "      <td>Men</td>\n",
              "      <td>100M Freestyle For Sailors</td>\n",
              "      <td>Bronze</td>\n",
              "    </tr>\n",
              "    <tr>\n",
              "      <th>3</th>\n",
              "      <td>1896</td>\n",
              "      <td>Athens</td>\n",
              "      <td>Aquatics</td>\n",
              "      <td>Swimming</td>\n",
              "      <td>MALOKINIS, Ioannis</td>\n",
              "      <td>GRE</td>\n",
              "      <td>Men</td>\n",
              "      <td>100M Freestyle For Sailors</td>\n",
              "      <td>Gold</td>\n",
              "    </tr>\n",
              "    <tr>\n",
              "      <th>4</th>\n",
              "      <td>1896</td>\n",
              "      <td>Athens</td>\n",
              "      <td>Aquatics</td>\n",
              "      <td>Swimming</td>\n",
              "      <td>CHASAPIS, Spiridon</td>\n",
              "      <td>GRE</td>\n",
              "      <td>Men</td>\n",
              "      <td>100M Freestyle For Sailors</td>\n",
              "      <td>Silver</td>\n",
              "    </tr>\n",
              "  </tbody>\n",
              "</table>\n",
              "</div>"
            ],
            "text/plain": [
              "   Year    City     Sport  ... Gender                       Event   Medal\n",
              "0  1896  Athens  Aquatics  ...    Men              100M Freestyle    Gold\n",
              "1  1896  Athens  Aquatics  ...    Men              100M Freestyle  Silver\n",
              "2  1896  Athens  Aquatics  ...    Men  100M Freestyle For Sailors  Bronze\n",
              "3  1896  Athens  Aquatics  ...    Men  100M Freestyle For Sailors    Gold\n",
              "4  1896  Athens  Aquatics  ...    Men  100M Freestyle For Sailors  Silver\n",
              "\n",
              "[5 rows x 9 columns]"
            ]
          },
          "metadata": {},
          "execution_count": 209
        }
      ]
    },
    {
      "cell_type": "code",
      "metadata": {
        "id": "xXCX9fx-E9UE",
        "colab": {
          "base_uri": "https://localhost:8080/"
        },
        "outputId": "e2d6448c-563e-4311-efb7-aee5cce9e3c0"
      },
      "source": [
        "#To check if there is still missing data\n",
        "summer_df.isnull().sum().any()"
      ],
      "execution_count": 210,
      "outputs": [
        {
          "output_type": "execute_result",
          "data": {
            "text/plain": [
              "False"
            ]
          },
          "metadata": {},
          "execution_count": 210
        }
      ]
    },
    {
      "cell_type": "markdown",
      "metadata": {
        "id": "l6K5GJrIFBf-"
      },
      "source": [
        "Now, we don't have any mising data."
      ]
    },
    {
      "cell_type": "code",
      "metadata": {
        "id": "lneJCWqqFHIs",
        "colab": {
          "base_uri": "https://localhost:8080/"
        },
        "outputId": "58843600-0f66-4167-e311-4dc4f2249cda"
      },
      "source": [
        "#To check for unique items in our categorical Features\n",
        "summer_df.nunique() "
      ],
      "execution_count": 211,
      "outputs": [
        {
          "output_type": "execute_result",
          "data": {
            "text/plain": [
              "Year             27\n",
              "City             22\n",
              "Sport            43\n",
              "Discipline       67\n",
              "Athlete       22761\n",
              "Code            147\n",
              "Gender            2\n",
              "Event           666\n",
              "Medal             3\n",
              "dtype: int64"
            ]
          },
          "metadata": {},
          "execution_count": 211
        }
      ]
    },
    {
      "cell_type": "code",
      "metadata": {
        "id": "Q6abdaZ2FUrY",
        "colab": {
          "base_uri": "https://localhost:8080/"
        },
        "outputId": "d44bb0f2-5f7c-45b2-82d5-01f016bec087"
      },
      "source": [
        "#Checking to see the unique Country\n",
        "print(summer_df.Code.unique())\n",
        "print(f'Total number of Country that participated in the Olympic games from 1896 10 2012: {len(summer_df.Code.unique())}')"
      ],
      "execution_count": 212,
      "outputs": [
        {
          "output_type": "stream",
          "name": "stdout",
          "text": [
            "['HUN' 'AUT' 'GRE' 'USA' 'GER' 'GBR' 'FRA' 'AUS' 'DEN' 'SUI' 'ZZX' 'NED'\n",
            " 'BEL' 'IND' 'CAN' 'BOH' 'SWE' 'NOR' 'ESP' 'ITA' 'CUB' 'ANZ' 'RSA' 'FIN'\n",
            " 'RU1' 'EST' 'TCH' 'NZL' 'BRA' 'JPN' 'LUX' 'ARG' 'POL' 'POR' 'URU' 'YUG'\n",
            " 'ROU' 'HAI' 'EGY' 'PHI' 'IRL' 'CHI' 'LAT' 'MEX' 'TUR' 'PAN' 'JAM' 'SRI'\n",
            " 'KOR' 'PUR' 'PER' 'IRI' 'TRI' 'URS' 'VEN' 'BUL' 'LIB' 'EUA' 'ISL' 'PAK'\n",
            " 'BAH' 'BWI' 'TPE' 'ETH' 'MAR' 'GHA' 'IRQ' 'SIN' 'TUN' 'KEN' 'NGR' 'GDR'\n",
            " 'FRG' 'UGA' 'CMR' 'MGL' 'PRK' 'COL' 'NIG' 'THA' 'BER' 'TAN' 'GUY' 'ZIM'\n",
            " 'CHN' 'CIV' 'ZAM' 'DOM' 'ALG' 'SYR' 'SUR' 'CRC' 'INA' 'SEN' 'DJI' 'AHO'\n",
            " 'ISV' 'EUN' 'NAM' 'QAT' 'LTU' 'MAS' 'CRO' 'ISR' 'SLO' 'IOP' 'RUS' 'UKR'\n",
            " 'ECU' 'BDI' 'MOZ' 'CZE' 'BLR' 'TGA' 'KAZ' 'UZB' 'SVK' 'MDA' 'GEO' 'HKG'\n",
            " 'ARM' 'AZE' 'BAR' 'KSA' 'KGZ' 'KUW' 'VIE' 'MKD' 'SCG' 'ERI' 'PAR' 'UAE'\n",
            " 'SRB' 'SUD' 'MRI' 'TOG' 'TJK' 'AFG' 'BRN' 'GUA' 'GRN' 'TTO' 'BOT' 'MNE'\n",
            " 'CYP' 'SGP' 'GAB']\n",
            "Total number of Country that participated in the Olympic games from 1896 10 2012: 147\n"
          ]
        }
      ]
    },
    {
      "cell_type": "code",
      "metadata": {
        "id": "OSdpTDhjFW3s",
        "colab": {
          "base_uri": "https://localhost:8080/"
        },
        "outputId": "6641fb28-de56-42e1-9be0-0830e6176c77"
      },
      "source": [
        "#checking to see the  uniques year\n",
        "print(summer_df.Year.unique())\n",
        "print(f\"The total number of years: {len(summer_df.Year.unique())}\")"
      ],
      "execution_count": 213,
      "outputs": [
        {
          "output_type": "stream",
          "name": "stdout",
          "text": [
            "[1896 1900 1904 1908 1912 1920 1924 1928 1932 1936 1948 1952 1956 1960\n",
            " 1964 1968 1972 1976 1980 1984 1988 1992 1996 2000 2004 2008 2012]\n",
            "The total number of years: 27\n"
          ]
        }
      ]
    },
    {
      "cell_type": "code",
      "metadata": {
        "id": "Vi30LMjMFaSs",
        "colab": {
          "base_uri": "https://localhost:8080/"
        },
        "outputId": "83c5ec04-1745-400e-84c9-fb6551773a9c"
      },
      "source": [
        "#checking to see the  host city\n",
        "print(summer_df.City.unique())\n",
        "print(f\"The total number of host City: {len(summer_df.City.unique())}\")"
      ],
      "execution_count": 214,
      "outputs": [
        {
          "output_type": "stream",
          "name": "stdout",
          "text": [
            "['Athens' 'Paris' 'St Louis' 'London' 'Stockholm' 'Antwerp' 'Amsterdam'\n",
            " 'Los Angeles' 'Berlin' 'Helsinki' 'Melbourne / Stockholm' 'Rome' 'Tokyo'\n",
            " 'Mexico' 'Munich' 'Montreal' 'Moscow' 'Seoul' 'Barcelona' 'Atlanta'\n",
            " 'Sydney' 'Beijing']\n",
            "The total number of host City: 22\n"
          ]
        }
      ]
    },
    {
      "cell_type": "code",
      "metadata": {
        "id": "xAJaecWOFaHc",
        "colab": {
          "base_uri": "https://localhost:8080/"
        },
        "outputId": "3f30d6b5-9096-47db-c1c8-834f9fac8dff"
      },
      "source": [
        "#checking to see the  unique Sport\n",
        "print(summer_df.Sport.unique())\n",
        "print(f\"The total number of Sport: {len(summer_df.Sport.unique())}\")"
      ],
      "execution_count": 215,
      "outputs": [
        {
          "output_type": "stream",
          "name": "stdout",
          "text": [
            "['Aquatics' 'Athletics' 'Cycling' 'Fencing' 'Gymnastics' 'Shooting'\n",
            " 'Tennis' 'Weightlifting' 'Wrestling' 'Archery' 'Basque Pelota' 'Cricket'\n",
            " 'Croquet' 'Equestrian' 'Football' 'Golf' 'Polo' 'Rowing' 'Rugby'\n",
            " 'Sailing' 'Tug of War' 'Boxing' 'Lacrosse' 'Roque' 'Hockey'\n",
            " 'Jeu de paume' 'Rackets' 'Skating' 'Water Motorsports'\n",
            " 'Modern Pentathlon' 'Ice Hockey' 'Basketball' 'Canoe / Kayak' 'Handball'\n",
            " 'Judo' 'Volleyball' 'Table Tennis' 'Badminton' 'Baseball' 'Softball'\n",
            " 'Taekwondo' 'Triathlon' 'Canoe']\n",
            "The total number of Sport: 43\n"
          ]
        }
      ]
    },
    {
      "cell_type": "code",
      "metadata": {
        "id": "x8aoPZN0FaAL",
        "colab": {
          "base_uri": "https://localhost:8080/"
        },
        "outputId": "3e2db931-e390-4da0-b472-04cb381a7951"
      },
      "source": [
        "#checking to see the  unique Event\n",
        "# print(summer_df.Event.unique())\n",
        "print(f\"The total number of Event: {len(summer_df.Event.unique())}\")"
      ],
      "execution_count": 216,
      "outputs": [
        {
          "output_type": "stream",
          "name": "stdout",
          "text": [
            "The total number of Event: 666\n"
          ]
        }
      ]
    },
    {
      "cell_type": "code",
      "metadata": {
        "id": "tjagO1GOFjB4",
        "colab": {
          "base_uri": "https://localhost:8080/"
        },
        "outputId": "eeb3a660-a1cc-48d5-b63c-971800e6b250"
      },
      "source": [
        "#checking to see the  unique Discipline\n",
        "print(summer_df.Discipline.unique())\n",
        "print(f\"The total number of Discipline: {len(summer_df.Discipline.unique())}\")"
      ],
      "execution_count": 217,
      "outputs": [
        {
          "output_type": "stream",
          "name": "stdout",
          "text": [
            "['Swimming' 'Athletics' 'Cycling Road' 'Cycling Track' 'Fencing'\n",
            " 'Artistic G.' 'Shooting' 'Tennis' 'Weightlifting' 'Wrestling Gre-R'\n",
            " 'Water polo' 'Archery' 'Basque Pelota' 'Cricket' 'Croquet' 'Jumping'\n",
            " 'Football' 'Golf' 'Polo' 'Rowing' 'Rugby' 'Sailing' 'Tug of War' 'Diving'\n",
            " 'Boxing' 'Lacrosse' 'Roque' 'Wrestling Free.' 'Hockey' 'Jeu de Paume'\n",
            " 'Rackets' 'Figure skating' 'Water Motorspor' 'Dressage' 'Eventing'\n",
            " 'Modern Pentath.' 'Vaulting' 'Ice Hockey' 'Basketball' 'Canoe / Kayak F'\n",
            " 'Handball' 'Judo' 'Volleyball' 'Canoe / Kayak S' 'Synchronized S.'\n",
            " 'Rhythmic G.' 'Table Tennis' 'Badminton' 'Baseball' 'Mountain Bike'\n",
            " 'Softball' 'Beach volley.' 'Trampoline' 'Taekwondo' 'Triathlon' 'BMX'\n",
            " 'Marathon swimming' 'Synchronized Swimming' 'Water Polo' 'Canoe Slalom'\n",
            " 'Canoe Sprint' 'Cycling BMX' 'Gymnastics Artistic' 'Gymnastics Rhythmic'\n",
            " 'Modern Pentathlon' 'Beach Volleyball' 'Wrestling Freestyle']\n",
            "The total number of Discipline: 67\n"
          ]
        }
      ]
    },
    {
      "cell_type": "markdown",
      "metadata": {
        "id": "WGDXEoH6FoyE"
      },
      "source": [
        "As per the above data we have 43 sports, 67 discipline, and 666 events in summer Olympics.\n",
        "\n",
        "We can see Sport is differnet from Disclipline. We can say column \"Discipline\" is a subset of column \"Sport\"."
      ]
    },
    {
      "cell_type": "code",
      "metadata": {
        "id": "pwuUn7DUFi-z",
        "colab": {
          "base_uri": "https://localhost:8080/"
        },
        "outputId": "f68f040f-bd05-496d-c1e3-c5a90049502c"
      },
      "source": [
        "#checking to see the  uniques Athletes\n",
        "print(summer_df.Athlete.unique())\n",
        "print(f\"The total number of Athlete: {len(summer_df.Athlete.unique())}\")"
      ],
      "execution_count": 218,
      "outputs": [
        {
          "output_type": "stream",
          "name": "stdout",
          "text": [
            "['HAJOS, Alfred' 'HERSCHMANN, Otto' 'DRIVAS, Dimitrios' ...\n",
            " 'TOTROV, Rustam' 'ALEKSANYAN, Artur' 'LIDBERG, Jimmy']\n",
            "The total number of Athlete: 22761\n"
          ]
        }
      ]
    },
    {
      "cell_type": "code",
      "metadata": {
        "id": "-4U8uTGFFi8Q",
        "colab": {
          "base_uri": "https://localhost:8080/"
        },
        "outputId": "f1ac57ab-12a0-40db-cc1b-0c0a29fe2fea"
      },
      "source": [
        "#checking to see the  unique Medal\n",
        "print(summer_df.Medal.unique())\n",
        "print(f\"The total number of Medal: {len(summer_df.Medal.unique())}\")"
      ],
      "execution_count": 219,
      "outputs": [
        {
          "output_type": "stream",
          "name": "stdout",
          "text": [
            "['Gold' 'Silver' 'Bronze']\n",
            "The total number of Medal: 3\n"
          ]
        }
      ]
    },
    {
      "cell_type": "markdown",
      "metadata": {
        "id": "i-KR87ZVkkYt"
      },
      "source": [
        "### **TOP COUNTRIES PARTICIPATION:**"
      ]
    },
    {
      "cell_type": "code",
      "metadata": {
        "colab": {
          "base_uri": "https://localhost:8080/",
          "height": 357
        },
        "id": "l2a6EzLai1K4",
        "outputId": "f1de161b-5da8-483d-afae-477debc0f38d"
      },
      "source": [
        "#Top Countries Participating in Summer Olympics\n",
        "Top_Countries =summer_df.value_counts([\"Code\"]).reset_index(name= \"Counts\")[:10]\n",
        "Top_Countries"
      ],
      "execution_count": 220,
      "outputs": [
        {
          "output_type": "execute_result",
          "data": {
            "text/html": [
              "<div>\n",
              "<style scoped>\n",
              "    .dataframe tbody tr th:only-of-type {\n",
              "        vertical-align: middle;\n",
              "    }\n",
              "\n",
              "    .dataframe tbody tr th {\n",
              "        vertical-align: top;\n",
              "    }\n",
              "\n",
              "    .dataframe thead th {\n",
              "        text-align: right;\n",
              "    }\n",
              "</style>\n",
              "<table border=\"1\" class=\"dataframe\">\n",
              "  <thead>\n",
              "    <tr style=\"text-align: right;\">\n",
              "      <th></th>\n",
              "      <th>Code</th>\n",
              "      <th>Counts</th>\n",
              "    </tr>\n",
              "  </thead>\n",
              "  <tbody>\n",
              "    <tr>\n",
              "      <th>0</th>\n",
              "      <td>USA</td>\n",
              "      <td>4585</td>\n",
              "    </tr>\n",
              "    <tr>\n",
              "      <th>1</th>\n",
              "      <td>URS</td>\n",
              "      <td>2049</td>\n",
              "    </tr>\n",
              "    <tr>\n",
              "      <th>2</th>\n",
              "      <td>GBR</td>\n",
              "      <td>1720</td>\n",
              "    </tr>\n",
              "    <tr>\n",
              "      <th>3</th>\n",
              "      <td>FRA</td>\n",
              "      <td>1396</td>\n",
              "    </tr>\n",
              "    <tr>\n",
              "      <th>4</th>\n",
              "      <td>GER</td>\n",
              "      <td>1305</td>\n",
              "    </tr>\n",
              "    <tr>\n",
              "      <th>5</th>\n",
              "      <td>ITA</td>\n",
              "      <td>1296</td>\n",
              "    </tr>\n",
              "    <tr>\n",
              "      <th>6</th>\n",
              "      <td>AUS</td>\n",
              "      <td>1189</td>\n",
              "    </tr>\n",
              "    <tr>\n",
              "      <th>7</th>\n",
              "      <td>HUN</td>\n",
              "      <td>1079</td>\n",
              "    </tr>\n",
              "    <tr>\n",
              "      <th>8</th>\n",
              "      <td>SWE</td>\n",
              "      <td>1044</td>\n",
              "    </tr>\n",
              "    <tr>\n",
              "      <th>9</th>\n",
              "      <td>NED</td>\n",
              "      <td>851</td>\n",
              "    </tr>\n",
              "  </tbody>\n",
              "</table>\n",
              "</div>"
            ],
            "text/plain": [
              "  Code  Counts\n",
              "0  USA    4585\n",
              "1  URS    2049\n",
              "2  GBR    1720\n",
              "3  FRA    1396\n",
              "4  GER    1305\n",
              "5  ITA    1296\n",
              "6  AUS    1189\n",
              "7  HUN    1079\n",
              "8  SWE    1044\n",
              "9  NED     851"
            ]
          },
          "metadata": {},
          "execution_count": 220
        }
      ]
    },
    {
      "cell_type": "code",
      "metadata": {
        "colab": {
          "base_uri": "https://localhost:8080/",
          "height": 635
        },
        "id": "EMBLd6pGkFAc",
        "outputId": "5c37b53e-ce30-48b1-9b37-a3e246370ce0"
      },
      "source": [
        "sns.set_style('darkgrid')\n",
        "matplotlib.rcParams['figure.figsize'] = (12, 10)\n",
        "\n",
        "plt.title(\"Overall Participation Country-Wise\")\n",
        "barplot = sns.barplot(data=Top_Countries, x=\"Code\", y=\"Counts\", hue=\"Code\", palette=\"CMRmap\", dodge=False)\n",
        "barplot.set_xticklabels(rotation=50, labels=Top_Countries.Code)\n",
        "plt.ylabel(\"Counts\")\n",
        "plt.show()"
      ],
      "execution_count": 221,
      "outputs": [
        {
          "output_type": "display_data",
          "data": {
            "image/png": "[encoded data removed]",
            "text/plain": [
              "<Figure size 864x720 with 1 Axes>"
            ]
          },
          "metadata": {}
        }
      ]
    },
    {
      "cell_type": "markdown",
      "metadata": {
        "id": "hh6Jnv9lkt1S"
      },
      "source": [
        "As USA has historically won maximum no of medals it would make sense the participation is highest from USA."
      ]
    },
    {
      "cell_type": "markdown",
      "metadata": {
        "id": "HR8gt2YnkyMq"
      },
      "source": [
        "### **GENDER PARTICIPATION:**"
      ]
    },
    {
      "cell_type": "code",
      "metadata": {
        "colab": {
          "base_uri": "https://localhost:8080/",
          "height": 110
        },
        "id": "LRsByzslk2YY",
        "outputId": "28499921-4cf4-4da9-d98b-cf7940d31f27"
      },
      "source": [
        "Gender_Counts =summer_df.value_counts([\"Gender\"]).reset_index(name= \"Counts\")[:10]\n",
        "\n",
        "#To get the percentage\n",
        "Gender_Counts['Percentage %'] = round(Gender_Counts.Counts / Gender_Counts.Counts.sum() * 100, 2)\n",
        "\n",
        "Gender_Counts"
      ],
      "execution_count": 222,
      "outputs": [
        {
          "output_type": "execute_result",
          "data": {
            "text/html": [
              "<div>\n",
              "<style scoped>\n",
              "    .dataframe tbody tr th:only-of-type {\n",
              "        vertical-align: middle;\n",
              "    }\n",
              "\n",
              "    .dataframe tbody tr th {\n",
              "        vertical-align: top;\n",
              "    }\n",
              "\n",
              "    .dataframe thead th {\n",
              "        text-align: right;\n",
              "    }\n",
              "</style>\n",
              "<table border=\"1\" class=\"dataframe\">\n",
              "  <thead>\n",
              "    <tr style=\"text-align: right;\">\n",
              "      <th></th>\n",
              "      <th>Gender</th>\n",
              "      <th>Counts</th>\n",
              "      <th>Percentage %</th>\n",
              "    </tr>\n",
              "  </thead>\n",
              "  <tbody>\n",
              "    <tr>\n",
              "      <th>0</th>\n",
              "      <td>Men</td>\n",
              "      <td>22744</td>\n",
              "      <td>72.99</td>\n",
              "    </tr>\n",
              "    <tr>\n",
              "      <th>1</th>\n",
              "      <td>Women</td>\n",
              "      <td>8417</td>\n",
              "      <td>27.01</td>\n",
              "    </tr>\n",
              "  </tbody>\n",
              "</table>\n",
              "</div>"
            ],
            "text/plain": [
              "  Gender  Counts  Percentage %\n",
              "0    Men   22744         72.99\n",
              "1  Women    8417         27.01"
            ]
          },
          "metadata": {},
          "execution_count": 222
        }
      ]
    },
    {
      "cell_type": "code",
      "metadata": {
        "colab": {
          "base_uri": "https://localhost:8080/",
          "height": 603
        },
        "id": "fGw2xEtGk62g",
        "outputId": "8eb313af-8597-42af-c9bf-68b370748d48"
      },
      "source": [
        "Gender_percentage = Gender_Counts[\"Percentage %\"].to_list()\n",
        "plt.title('Gender Distribution', fontsize=30, loc='Right')\n",
        "plt.pie(Gender_percentage, colors=['#009047','#E23651'], labels= [\"Men\", \"Women\"], radius=1.2, autopct= \"%0.1f%%\", pctdistance = 0.77,\n",
        "        textprops = {\"size\" : 17, \"color\" : \"#000000\"}, explode= [0.00, 0.00])\n",
        "\n",
        "centre_circle = plt.Circle((0,0), 0.8, fc = \"w\")\n",
        "fig = plt.gcf()\n",
        "fig.gca().add_artist(centre_circle)\n",
        "plt.show()"
      ],
      "execution_count": 223,
      "outputs": [
        {
          "output_type": "display_data",
          "data": {
            "image/png": "[encoded data removed]",
            "text/plain": [
              "<Figure size 864x720 with 1 Axes>"
            ]
          },
          "metadata": {}
        }
      ]
    },
    {
      "cell_type": "markdown",
      "metadata": {
        "id": "5nEyBYOrk_p1"
      },
      "source": [
        "Male seems to be dominating in terms of participation. I used colors from Olympic logo for the doungnurt chart\n",
        "\n",
        "I'm curious to know the female participants across the years."
      ]
    },
    {
      "cell_type": "code",
      "metadata": {
        "colab": {
          "base_uri": "https://localhost:8080/",
          "height": 850
        },
        "id": "0MmJPwwDk8x3",
        "outputId": "1fd5955b-5eaa-43d2-ce0f-2766a4b4fe43"
      },
      "source": [
        "#To filter gender that are  female and Year\n",
        "female_participants = summer_df[(summer_df[\"Gender\"] == \"Women\")][[\"Gender\", \"Year\"]]\n",
        "\n",
        "#To group by year\n",
        "female_participants = female_participants.groupby('Year').count().reset_index()\n",
        "female_participants"
      ],
      "execution_count": 224,
      "outputs": [
        {
          "output_type": "execute_result",
          "data": {
            "text/html": [
              "<div>\n",
              "<style scoped>\n",
              "    .dataframe tbody tr th:only-of-type {\n",
              "        vertical-align: middle;\n",
              "    }\n",
              "\n",
              "    .dataframe tbody tr th {\n",
              "        vertical-align: top;\n",
              "    }\n",
              "\n",
              "    .dataframe thead th {\n",
              "        text-align: right;\n",
              "    }\n",
              "</style>\n",
              "<table border=\"1\" class=\"dataframe\">\n",
              "  <thead>\n",
              "    <tr style=\"text-align: right;\">\n",
              "      <th></th>\n",
              "      <th>Year</th>\n",
              "      <th>Gender</th>\n",
              "    </tr>\n",
              "  </thead>\n",
              "  <tbody>\n",
              "    <tr>\n",
              "      <th>0</th>\n",
              "      <td>1900</td>\n",
              "      <td>11</td>\n",
              "    </tr>\n",
              "    <tr>\n",
              "      <th>1</th>\n",
              "      <td>1904</td>\n",
              "      <td>12</td>\n",
              "    </tr>\n",
              "    <tr>\n",
              "      <th>2</th>\n",
              "      <td>1908</td>\n",
              "      <td>15</td>\n",
              "    </tr>\n",
              "    <tr>\n",
              "      <th>3</th>\n",
              "      <td>1912</td>\n",
              "      <td>30</td>\n",
              "    </tr>\n",
              "    <tr>\n",
              "      <th>4</th>\n",
              "      <td>1920</td>\n",
              "      <td>43</td>\n",
              "    </tr>\n",
              "    <tr>\n",
              "      <th>5</th>\n",
              "      <td>1924</td>\n",
              "      <td>51</td>\n",
              "    </tr>\n",
              "    <tr>\n",
              "      <th>6</th>\n",
              "      <td>1928</td>\n",
              "      <td>95</td>\n",
              "    </tr>\n",
              "    <tr>\n",
              "      <th>7</th>\n",
              "      <td>1932</td>\n",
              "      <td>60</td>\n",
              "    </tr>\n",
              "    <tr>\n",
              "      <th>8</th>\n",
              "      <td>1936</td>\n",
              "      <td>84</td>\n",
              "    </tr>\n",
              "    <tr>\n",
              "      <th>9</th>\n",
              "      <td>1948</td>\n",
              "      <td>96</td>\n",
              "    </tr>\n",
              "    <tr>\n",
              "      <th>10</th>\n",
              "      <td>1952</td>\n",
              "      <td>139</td>\n",
              "    </tr>\n",
              "    <tr>\n",
              "      <th>11</th>\n",
              "      <td>1956</td>\n",
              "      <td>146</td>\n",
              "    </tr>\n",
              "    <tr>\n",
              "      <th>12</th>\n",
              "      <td>1960</td>\n",
              "      <td>145</td>\n",
              "    </tr>\n",
              "    <tr>\n",
              "      <th>13</th>\n",
              "      <td>1964</td>\n",
              "      <td>190</td>\n",
              "    </tr>\n",
              "    <tr>\n",
              "      <th>14</th>\n",
              "      <td>1968</td>\n",
              "      <td>212</td>\n",
              "    </tr>\n",
              "    <tr>\n",
              "      <th>15</th>\n",
              "      <td>1972</td>\n",
              "      <td>238</td>\n",
              "    </tr>\n",
              "    <tr>\n",
              "      <th>16</th>\n",
              "      <td>1976</td>\n",
              "      <td>381</td>\n",
              "    </tr>\n",
              "    <tr>\n",
              "      <th>17</th>\n",
              "      <td>1980</td>\n",
              "      <td>429</td>\n",
              "    </tr>\n",
              "    <tr>\n",
              "      <th>18</th>\n",
              "      <td>1984</td>\n",
              "      <td>486</td>\n",
              "    </tr>\n",
              "    <tr>\n",
              "      <th>19</th>\n",
              "      <td>1988</td>\n",
              "      <td>535</td>\n",
              "    </tr>\n",
              "    <tr>\n",
              "      <th>20</th>\n",
              "      <td>1992</td>\n",
              "      <td>600</td>\n",
              "    </tr>\n",
              "    <tr>\n",
              "      <th>21</th>\n",
              "      <td>1996</td>\n",
              "      <td>777</td>\n",
              "    </tr>\n",
              "    <tr>\n",
              "      <th>22</th>\n",
              "      <td>2000</td>\n",
              "      <td>889</td>\n",
              "    </tr>\n",
              "    <tr>\n",
              "      <th>23</th>\n",
              "      <td>2004</td>\n",
              "      <td>899</td>\n",
              "    </tr>\n",
              "    <tr>\n",
              "      <th>24</th>\n",
              "      <td>2008</td>\n",
              "      <td>932</td>\n",
              "    </tr>\n",
              "    <tr>\n",
              "      <th>25</th>\n",
              "      <td>2012</td>\n",
              "      <td>922</td>\n",
              "    </tr>\n",
              "  </tbody>\n",
              "</table>\n",
              "</div>"
            ],
            "text/plain": [
              "    Year  Gender\n",
              "0   1900      11\n",
              "1   1904      12\n",
              "2   1908      15\n",
              "3   1912      30\n",
              "4   1920      43\n",
              "5   1924      51\n",
              "6   1928      95\n",
              "7   1932      60\n",
              "8   1936      84\n",
              "9   1948      96\n",
              "10  1952     139\n",
              "11  1956     146\n",
              "12  1960     145\n",
              "13  1964     190\n",
              "14  1968     212\n",
              "15  1972     238\n",
              "16  1976     381\n",
              "17  1980     429\n",
              "18  1984     486\n",
              "19  1988     535\n",
              "20  1992     600\n",
              "21  1996     777\n",
              "22  2000     889\n",
              "23  2004     899\n",
              "24  2008     932\n",
              "25  2012     922"
            ]
          },
          "metadata": {},
          "execution_count": 224
        }
      ]
    },
    {
      "cell_type": "code",
      "metadata": {
        "colab": {
          "base_uri": "https://localhost:8080/",
          "height": 404
        },
        "id": "HHTCg7wZlSWV",
        "outputId": "46addbff-0d23-462b-a764-8172e2ac673b"
      },
      "source": [
        "sns.set_style('darkgrid')\n",
        "# matplotlib.rcParams['figure.figsize'] = (12, 10)\n",
        "plt.figure(figsize=(10,6))\n",
        "sns.lineplot(data=female_participants, x='Year', y='Gender', color= \"red\")\n",
        "plt.title(\"Female Participation over the Years \")\n",
        "\n",
        "plt.show()"
      ],
      "execution_count": 225,
      "outputs": [
        {
          "output_type": "display_data",
          "data": {
            "image/png": "[encoded data removed]",
            "text/plain": [
              "<Figure size 720x432 with 1 Axes>"
            ]
          },
          "metadata": {}
        }
      ]
    },
    {
      "cell_type": "markdown",
      "metadata": {
        "id": "5QnxdP8dlWay"
      },
      "source": [
        "From the chart above, we can see the Women has increased signifiacntly across the years."
      ]
    },
    {
      "cell_type": "code",
      "metadata": {
        "colab": {
          "base_uri": "https://localhost:8080/",
          "height": 142
        },
        "id": "p8JcGiUXle3s",
        "outputId": "ea169692-1cc6-4432-aa85-4aeefa770eb4"
      },
      "source": [
        "Gender_by_Medals = pd.crosstab(summer_df[\"Gender\"],summer_df[\"Medal\"])\n",
        "Gender_by_Medals"
      ],
      "execution_count": 226,
      "outputs": [
        {
          "output_type": "execute_result",
          "data": {
            "text/html": [
              "<div>\n",
              "<style scoped>\n",
              "    .dataframe tbody tr th:only-of-type {\n",
              "        vertical-align: middle;\n",
              "    }\n",
              "\n",
              "    .dataframe tbody tr th {\n",
              "        vertical-align: top;\n",
              "    }\n",
              "\n",
              "    .dataframe thead th {\n",
              "        text-align: right;\n",
              "    }\n",
              "</style>\n",
              "<table border=\"1\" class=\"dataframe\">\n",
              "  <thead>\n",
              "    <tr style=\"text-align: right;\">\n",
              "      <th>Medal</th>\n",
              "      <th>Bronze</th>\n",
              "      <th>Gold</th>\n",
              "      <th>Silver</th>\n",
              "    </tr>\n",
              "    <tr>\n",
              "      <th>Gender</th>\n",
              "      <th></th>\n",
              "      <th></th>\n",
              "      <th></th>\n",
              "    </tr>\n",
              "  </thead>\n",
              "  <tbody>\n",
              "    <tr>\n",
              "      <th>Men</th>\n",
              "      <td>7539</td>\n",
              "      <td>7698</td>\n",
              "      <td>7507</td>\n",
              "    </tr>\n",
              "    <tr>\n",
              "      <th>Women</th>\n",
              "      <td>2830</td>\n",
              "      <td>2786</td>\n",
              "      <td>2801</td>\n",
              "    </tr>\n",
              "  </tbody>\n",
              "</table>\n",
              "</div>"
            ],
            "text/plain": [
              "Medal   Bronze  Gold  Silver\n",
              "Gender                      \n",
              "Men       7539  7698    7507\n",
              "Women     2830  2786    2801"
            ]
          },
          "metadata": {},
          "execution_count": 226
        }
      ]
    },
    {
      "cell_type": "markdown",
      "metadata": {
        "id": "CHjvTm87li_U"
      },
      "source": [
        "I'II be using stack barplot to visualize the Gender by Male.\n",
        "\n",
        "Stacking basciaclly means moving inner coulumns to beacome the inner rows index."
      ]
    },
    {
      "cell_type": "code",
      "metadata": {
        "colab": {
          "base_uri": "https://localhost:8080/",
          "height": 621
        },
        "id": "UfpFwHlnlmZP",
        "outputId": "52b828e5-21eb-4b19-b88c-7a4ecf11b3c1"
      },
      "source": [
        "sns.set_style('darkgrid')\n",
        "matplotlib.rcParams['figure.figsize'] = (12, 10)\n",
        "plt.title(\"Overall Participation CountryWise\")\n",
        "\n",
        "#To moved the Medal to become the inner row index\n",
        "stacked = Gender_by_Medals.stack().reset_index().rename(columns={0:'value'})\n",
        "sns.barplot(x=stacked.Medal, y=stacked.value, hue=stacked.Gender, palette=\"CMRmap\")\n",
        "plt.ylabel(\"Counts of Medal\")\n",
        "plt.show()"
      ],
      "execution_count": 227,
      "outputs": [
        {
          "output_type": "display_data",
          "data": {
            "image/png": "[encoded data removed]",
            "text/plain": [
              "<Figure size 864x720 with 1 Axes>"
            ]
          },
          "metadata": {}
        }
      ]
    },
    {
      "cell_type": "markdown",
      "metadata": {
        "id": "Z-S8CxLNF3wW"
      },
      "source": [
        "# **SUMMER OLYMPICS DATA ANALYSIS ASSIGNMENT**\n",
        "\n",
        "---\n",
        "\n"
      ]
    },
    {
      "cell_type": "markdown",
      "metadata": {
        "id": "YYXz6nVSGBoV"
      },
      "source": [
        "## **1. In how many cities Summer Olympics is held so far?**"
      ]
    },
    {
      "cell_type": "code",
      "metadata": {
        "colab": {
          "base_uri": "https://localhost:8080/"
        },
        "id": "MrwkSqUQFi6W",
        "outputId": "7b56e841-e0be-4e36-946c-8408d6a342e9"
      },
      "source": [
        "#checking to see the  host city\n",
        "print(summer_df.City.unique())\n",
        "print(f\"\\nThe total number of cities Summer Olympics is held so far: {len(summer_df.City.unique())}\")"
      ],
      "execution_count": 172,
      "outputs": [
        {
          "output_type": "stream",
          "name": "stdout",
          "text": [
            "['Athens' 'Paris' 'St Louis' 'London' 'Stockholm' 'Antwerp' 'Amsterdam'\n",
            " 'Los Angeles' 'Berlin' 'Helsinki' 'Melbourne / Stockholm' 'Rome' 'Tokyo'\n",
            " 'Mexico' 'Munich' 'Montreal' 'Moscow' 'Seoul' 'Barcelona' 'Atlanta'\n",
            " 'Sydney' 'Beijing']\n",
            "\n",
            "The total number of cities Summer Olympics is held so far: 22\n"
          ]
        }
      ]
    },
    {
      "cell_type": "markdown",
      "metadata": {
        "id": "EZ3lLgtsJn9E"
      },
      "source": [
        "\n",
        "## **2. Which sport is having most number of Gold Medals so far? (Top 5)**\n"
      ]
    },
    {
      "cell_type": "code",
      "metadata": {
        "id": "J0i0RieKPzuv",
        "colab": {
          "base_uri": "https://localhost:8080/",
          "height": 237
        },
        "outputId": "fd1def3b-8d1c-4593-b7f6-0365e432e01c"
      },
      "source": [
        "gold = []\n",
        "gold_data = summer_df[summer_df['Medal']=='Gold']\n",
        "\n",
        "for sport in gold_data['Sport'].unique():\n",
        "    gold.append([sport,len(gold_data[gold_data['Sport']==sport])])\n",
        "\n",
        "print(f\"SPORTS HAVING MOST NUMBER OF GOLD MEDALS:\\n\")\n",
        "\n",
        "gold = pd.DataFrame(gold,columns=['Sport','Count_of_Gold_Medals'])\n",
        "c=gold.sort_values(by='Count_of_Gold_Medals',ascending=False).head(5)\n",
        "c"
      ],
      "execution_count": 173,
      "outputs": [
        {
          "output_type": "stream",
          "name": "stdout",
          "text": [
            "SPORTS HAVING MOST NUMBER OF GOLD MEDALS:\n",
            "\n"
          ]
        },
        {
          "output_type": "execute_result",
          "data": {
            "text/html": [
              "<div>\n",
              "<style scoped>\n",
              "    .dataframe tbody tr th:only-of-type {\n",
              "        vertical-align: middle;\n",
              "    }\n",
              "\n",
              "    .dataframe tbody tr th {\n",
              "        vertical-align: top;\n",
              "    }\n",
              "\n",
              "    .dataframe thead th {\n",
              "        text-align: right;\n",
              "    }\n",
              "</style>\n",
              "<table border=\"1\" class=\"dataframe\">\n",
              "  <thead>\n",
              "    <tr style=\"text-align: right;\">\n",
              "      <th></th>\n",
              "      <th>Sport</th>\n",
              "      <th>Count_of_Gold_Medals</th>\n",
              "    </tr>\n",
              "  </thead>\n",
              "  <tbody>\n",
              "    <tr>\n",
              "      <th>0</th>\n",
              "      <td>Aquatics</td>\n",
              "      <td>1421</td>\n",
              "    </tr>\n",
              "    <tr>\n",
              "      <th>1</th>\n",
              "      <td>Athletics</td>\n",
              "      <td>1214</td>\n",
              "    </tr>\n",
              "    <tr>\n",
              "      <th>17</th>\n",
              "      <td>Rowing</td>\n",
              "      <td>890</td>\n",
              "    </tr>\n",
              "    <tr>\n",
              "      <th>4</th>\n",
              "      <td>Gymnastics</td>\n",
              "      <td>820</td>\n",
              "    </tr>\n",
              "    <tr>\n",
              "      <th>3</th>\n",
              "      <td>Fencing</td>\n",
              "      <td>552</td>\n",
              "    </tr>\n",
              "  </tbody>\n",
              "</table>\n",
              "</div>"
            ],
            "text/plain": [
              "         Sport  Count_of_Gold_Medals\n",
              "0     Aquatics                  1421\n",
              "1    Athletics                  1214\n",
              "17      Rowing                   890\n",
              "4   Gymnastics                   820\n",
              "3      Fencing                   552"
            ]
          },
          "metadata": {},
          "execution_count": 173
        }
      ]
    },
    {
      "cell_type": "code",
      "metadata": {
        "colab": {
          "base_uri": "https://localhost:8080/",
          "height": 663
        },
        "id": "Z-VLzHXHnvaX",
        "outputId": "14cb64a5-6700-424c-b288-c097bcfc78c8"
      },
      "source": [
        "sns.set_style('whitegrid')\n",
        "matplotlib.rcParams['figure.figsize'] = (12, 10)\n",
        "\n",
        "plt.title(\"Sport with the Maximum Gold Medals\")\n",
        "barplot = sns.barplot(data=c, x=\"Sport\", y=\"Count_of_Gold_Medals\", hue=\"Sport\", palette=\"CMRmap\", dodge=False)\n",
        "barplot.set_xticklabels(rotation=50, labels=c.Sport)\n",
        "plt.ylabel(\"Count_of_Gold_Medals\")\n",
        "plt.show()"
      ],
      "execution_count": 174,
      "outputs": [
        {
          "output_type": "display_data",
          "data": {
            "image/png": "[encoded data removed]",
            "text/plain": [
              "<Figure size 864x720 with 1 Axes>"
            ]
          },
          "metadata": {}
        }
      ]
    },
    {
      "cell_type": "code",
      "metadata": {
        "colab": {
          "base_uri": "https://localhost:8080/",
          "height": 483
        },
        "id": "VuYW7xeecFZ0",
        "outputId": "dc580973-e44b-4047-e14b-7d1fa1d9bffb"
      },
      "source": [
        "gold_data['Medal'].unique()\n",
        "gold=gold_data[gold_data['Medal'] == 'Gold']\n",
        "gold['Sport'].value_counts().head().plot.pie(figsize = (8,8))"
      ],
      "execution_count": 175,
      "outputs": [
        {
          "output_type": "execute_result",
          "data": {
            "text/plain": [
              "<matplotlib.axes._subplots.AxesSubplot at 0x7fd8a7d46c10>"
            ]
          },
          "metadata": {},
          "execution_count": 175
        },
        {
          "output_type": "display_data",
          "data": {
            "image/png": "[encoded data removed]",
            "text/plain": [
              "<Figure size 576x576 with 1 Axes>"
            ]
          },
          "metadata": {}
        }
      ]
    },
    {
      "cell_type": "markdown",
      "metadata": {
        "id": "n4Ndp6V8PxJK"
      },
      "source": [
        "## **3. Which sport is having most number of medals so far? (Top 5)** "
      ]
    },
    {
      "cell_type": "code",
      "metadata": {
        "id": "YDwFo-9CQmak",
        "colab": {
          "base_uri": "https://localhost:8080/",
          "height": 237
        },
        "outputId": "b666a948-0174-4dad-f008-bd0a32845a3e"
      },
      "source": [
        "Most_number_medal = summer_df[[\"Sport\",\"Medal\"]]\n",
        "Most_number_medal = Most_number_medal.value_counts(\"Sport\").reset_index(name=\"Counts_of_Medals\")[:5]\n",
        "print(f\"SPORTS HAVING MOST NUMBER OF MEDALS:\\n\")\n",
        "Most_number_medal"
      ],
      "execution_count": 176,
      "outputs": [
        {
          "output_type": "stream",
          "name": "stdout",
          "text": [
            "SPORTS HAVING MOST NUMBER OF MEDALS:\n",
            "\n"
          ]
        },
        {
          "output_type": "execute_result",
          "data": {
            "text/html": [
              "<div>\n",
              "<style scoped>\n",
              "    .dataframe tbody tr th:only-of-type {\n",
              "        vertical-align: middle;\n",
              "    }\n",
              "\n",
              "    .dataframe tbody tr th {\n",
              "        vertical-align: top;\n",
              "    }\n",
              "\n",
              "    .dataframe thead th {\n",
              "        text-align: right;\n",
              "    }\n",
              "</style>\n",
              "<table border=\"1\" class=\"dataframe\">\n",
              "  <thead>\n",
              "    <tr style=\"text-align: right;\">\n",
              "      <th></th>\n",
              "      <th>Sport</th>\n",
              "      <th>Counts_of_Medals</th>\n",
              "    </tr>\n",
              "  </thead>\n",
              "  <tbody>\n",
              "    <tr>\n",
              "      <th>0</th>\n",
              "      <td>Aquatics</td>\n",
              "      <td>4170</td>\n",
              "    </tr>\n",
              "    <tr>\n",
              "      <th>1</th>\n",
              "      <td>Athletics</td>\n",
              "      <td>3637</td>\n",
              "    </tr>\n",
              "    <tr>\n",
              "      <th>2</th>\n",
              "      <td>Rowing</td>\n",
              "      <td>2667</td>\n",
              "    </tr>\n",
              "    <tr>\n",
              "      <th>3</th>\n",
              "      <td>Gymnastics</td>\n",
              "      <td>2307</td>\n",
              "    </tr>\n",
              "    <tr>\n",
              "      <th>4</th>\n",
              "      <td>Fencing</td>\n",
              "      <td>1613</td>\n",
              "    </tr>\n",
              "  </tbody>\n",
              "</table>\n",
              "</div>"
            ],
            "text/plain": [
              "        Sport  Counts_of_Medals\n",
              "0    Aquatics              4170\n",
              "1   Athletics              3637\n",
              "2      Rowing              2667\n",
              "3  Gymnastics              2307\n",
              "4     Fencing              1613"
            ]
          },
          "metadata": {},
          "execution_count": 176
        }
      ]
    },
    {
      "cell_type": "code",
      "metadata": {
        "colab": {
          "base_uri": "https://localhost:8080/",
          "height": 663
        },
        "id": "UOAEsR0vr683",
        "outputId": "3eecef9f-e19b-45c4-ae76-4ab79b226921"
      },
      "source": [
        "sns.set_style('whitegrid')\n",
        "matplotlib.rcParams['figure.figsize'] = (12, 10)\n",
        "\n",
        "plt.title(\"Sport with the Maximum Medals\")\n",
        "barplot = sns.barplot(data=Most_number_medal, x=\"Sport\", y=\"Counts_of_Medals\", hue=\"Sport\", palette=\"CMRmap\", dodge=False)\n",
        "barplot.set_xticklabels(rotation=50, labels=Most_number_medal.Sport)\n",
        "plt.ylabel(\"Counts_of_Medals\")\n",
        "plt.show()"
      ],
      "execution_count": 177,
      "outputs": [
        {
          "output_type": "display_data",
          "data": {
            "image/png": "[encoded data removed]",
            "text/plain": [
              "<Figure size 864x720 with 1 Axes>"
            ]
          },
          "metadata": {}
        }
      ]
    },
    {
      "cell_type": "markdown",
      "metadata": {
        "id": "vbG4-BDIs22C"
      },
      "source": [
        "## **4. Which player has won most number of medals? (Top 5)**"
      ]
    },
    {
      "cell_type": "code",
      "metadata": {
        "colab": {
          "base_uri": "https://localhost:8080/",
          "height": 237
        },
        "id": "cGdnYuQctAJp",
        "outputId": "b01334e0-5373-44d7-b2cc-f5b452400126"
      },
      "source": [
        "Individual_medal = summer_df[[\"Athlete\",\"Medal\"]]\n",
        "Individual_medal['Athlete'].unique()\n",
        "Individual_medal = Individual_medal.value_counts(\"Athlete\").reset_index(name=\"Counts_of_Medals\")[:5]\n",
        "print(f\"PLAYERS WHO WON MOST NUMBER OF MEDALS:\\n\")\n",
        "Individual_medal"
      ],
      "execution_count": 178,
      "outputs": [
        {
          "output_type": "stream",
          "name": "stdout",
          "text": [
            "PLAYERS WHO WON MOST NUMBER OF MEDALS:\n",
            "\n"
          ]
        },
        {
          "output_type": "execute_result",
          "data": {
            "text/html": [
              "<div>\n",
              "<style scoped>\n",
              "    .dataframe tbody tr th:only-of-type {\n",
              "        vertical-align: middle;\n",
              "    }\n",
              "\n",
              "    .dataframe tbody tr th {\n",
              "        vertical-align: top;\n",
              "    }\n",
              "\n",
              "    .dataframe thead th {\n",
              "        text-align: right;\n",
              "    }\n",
              "</style>\n",
              "<table border=\"1\" class=\"dataframe\">\n",
              "  <thead>\n",
              "    <tr style=\"text-align: right;\">\n",
              "      <th></th>\n",
              "      <th>Athlete</th>\n",
              "      <th>Counts_of_Medals</th>\n",
              "    </tr>\n",
              "  </thead>\n",
              "  <tbody>\n",
              "    <tr>\n",
              "      <th>0</th>\n",
              "      <td>PHELPS, Michael</td>\n",
              "      <td>22</td>\n",
              "    </tr>\n",
              "    <tr>\n",
              "      <th>1</th>\n",
              "      <td>LATYNINA, Larisa</td>\n",
              "      <td>18</td>\n",
              "    </tr>\n",
              "    <tr>\n",
              "      <th>2</th>\n",
              "      <td>ANDRIANOV, Nikolay</td>\n",
              "      <td>15</td>\n",
              "    </tr>\n",
              "    <tr>\n",
              "      <th>3</th>\n",
              "      <td>ONO, Takashi</td>\n",
              "      <td>13</td>\n",
              "    </tr>\n",
              "    <tr>\n",
              "      <th>4</th>\n",
              "      <td>MANGIAROTTI, Edoardo</td>\n",
              "      <td>13</td>\n",
              "    </tr>\n",
              "  </tbody>\n",
              "</table>\n",
              "</div>"
            ],
            "text/plain": [
              "                Athlete  Counts_of_Medals\n",
              "0       PHELPS, Michael                22\n",
              "1      LATYNINA, Larisa                18\n",
              "2    ANDRIANOV, Nikolay                15\n",
              "3          ONO, Takashi                13\n",
              "4  MANGIAROTTI, Edoardo                13"
            ]
          },
          "metadata": {},
          "execution_count": 178
        }
      ]
    },
    {
      "cell_type": "code",
      "metadata": {
        "colab": {
          "base_uri": "https://localhost:8080/",
          "height": 708
        },
        "id": "W1Wslz2FeJge",
        "outputId": "4ae350e8-78d3-486e-d59b-95c9644be40c"
      },
      "source": [
        "sns.set_style('whitegrid')\n",
        "matplotlib.rcParams['figure.figsize'] = (12, 10)\n",
        "\n",
        "plt.title(\"Players with the Maximum Medals\")\n",
        "barplot = sns.barplot(data=Individual_medal, x=\"Athlete\", y=\"Counts_of_Medals\", hue=\"Athlete\", palette=\"CMRmap\", dodge=False)\n",
        "barplot.set_xticklabels(rotation=50, labels=Individual_medal.Athlete)\n",
        "plt.ylabel(\"Counts_of_Medals\")\n",
        "plt.show()"
      ],
      "execution_count": 179,
      "outputs": [
        {
          "output_type": "display_data",
          "data": {
            "image/png": "[encoded data removed]",
            "text/plain": [
              "<Figure size 864x720 with 1 Axes>"
            ]
          },
          "metadata": {}
        }
      ]
    },
    {
      "cell_type": "markdown",
      "metadata": {
        "id": "Lr19XMD86RfB"
      },
      "source": [
        "## **5. Which player has won most number Gold Medals of medals? (Top 5)**"
      ]
    },
    {
      "cell_type": "code",
      "metadata": {
        "colab": {
          "base_uri": "https://localhost:8080/",
          "height": 237
        },
        "id": "1HMOBYub6WZh",
        "outputId": "343939f2-4e03-46de-8754-700c9fb88caa"
      },
      "source": [
        "Gold_medal = summer_df[(summer_df[\"Medal\"] == \"Gold\")][[\"Athlete\", \"Medal\"]]\n",
        "Gold_medal = Gold_medal.value_counts([\"Athlete\"]).reset_index(name = \"Counts_of_Gold_Medal\")[:5]\n",
        "print(f\"PLAYERS WHO WON MOST NUMBER OF GOLD MEDALS:\\n\")\n",
        "Gold_medal"
      ],
      "execution_count": 180,
      "outputs": [
        {
          "output_type": "stream",
          "name": "stdout",
          "text": [
            "PLAYERS WHO WON MOST NUMBER OF GOLD MEDALS:\n",
            "\n"
          ]
        },
        {
          "output_type": "execute_result",
          "data": {
            "text/html": [
              "<div>\n",
              "<style scoped>\n",
              "    .dataframe tbody tr th:only-of-type {\n",
              "        vertical-align: middle;\n",
              "    }\n",
              "\n",
              "    .dataframe tbody tr th {\n",
              "        vertical-align: top;\n",
              "    }\n",
              "\n",
              "    .dataframe thead th {\n",
              "        text-align: right;\n",
              "    }\n",
              "</style>\n",
              "<table border=\"1\" class=\"dataframe\">\n",
              "  <thead>\n",
              "    <tr style=\"text-align: right;\">\n",
              "      <th></th>\n",
              "      <th>Athlete</th>\n",
              "      <th>Counts_of_Gold_Medal</th>\n",
              "    </tr>\n",
              "  </thead>\n",
              "  <tbody>\n",
              "    <tr>\n",
              "      <th>0</th>\n",
              "      <td>PHELPS, Michael</td>\n",
              "      <td>18</td>\n",
              "    </tr>\n",
              "    <tr>\n",
              "      <th>1</th>\n",
              "      <td>LATYNINA, Larisa</td>\n",
              "      <td>9</td>\n",
              "    </tr>\n",
              "    <tr>\n",
              "      <th>2</th>\n",
              "      <td>SPITZ, Mark</td>\n",
              "      <td>9</td>\n",
              "    </tr>\n",
              "    <tr>\n",
              "      <th>3</th>\n",
              "      <td>LEWIS, Carl</td>\n",
              "      <td>9</td>\n",
              "    </tr>\n",
              "    <tr>\n",
              "      <th>4</th>\n",
              "      <td>NURMI, Paavo</td>\n",
              "      <td>9</td>\n",
              "    </tr>\n",
              "  </tbody>\n",
              "</table>\n",
              "</div>"
            ],
            "text/plain": [
              "            Athlete  Counts_of_Gold_Medal\n",
              "0   PHELPS, Michael                    18\n",
              "1  LATYNINA, Larisa                     9\n",
              "2       SPITZ, Mark                     9\n",
              "3       LEWIS, Carl                     9\n",
              "4      NURMI, Paavo                     9"
            ]
          },
          "metadata": {},
          "execution_count": 180
        }
      ]
    },
    {
      "cell_type": "code",
      "metadata": {
        "colab": {
          "base_uri": "https://localhost:8080/",
          "height": 683
        },
        "id": "bCRAdWEKerP8",
        "outputId": "5055e157-254e-4b4e-97bd-40add52249dc"
      },
      "source": [
        "sns.set_style('whitegrid')\n",
        "matplotlib.rcParams['figure.figsize'] = (12, 10)\n",
        "\n",
        "plt.title(\"Players with the Maximum Gold Medals\")\n",
        "barplot = sns.barplot(data=Gold_medal, x=\"Athlete\", y=\"Counts_of_Gold_Medal\", hue=\"Athlete\", palette=\"CMRmap\", dodge=False)\n",
        "barplot.set_xticklabels(rotation=50, labels=Gold_medal.Athlete)\n",
        "plt.ylabel(\"Counts_of_Gold_Medal\")\n",
        "plt.show()"
      ],
      "execution_count": 181,
      "outputs": [
        {
          "output_type": "display_data",
          "data": {
            "image/png": "[encoded data removed]",
            "text/plain": [
              "<Figure size 864x720 with 1 Axes>"
            ]
          },
          "metadata": {}
        }
      ]
    },
    {
      "cell_type": "markdown",
      "metadata": {
        "id": "-eOUaG7v7lqb"
      },
      "source": [
        "## **6. In which year India won first Gold Medal in Summer Olympics?**"
      ]
    },
    {
      "cell_type": "code",
      "metadata": {
        "colab": {
          "base_uri": "https://localhost:8080/",
          "height": 203
        },
        "id": "c9vKQCO6CPez",
        "outputId": "d7451227-8d93-49d4-9dcb-efa729068964"
      },
      "source": [
        "# Making a new dataset which contains only the sports in which atleast one gold medal is won.\n",
        "gold_dataset= summer_df[summer_df[\"Medal\"]==\"Gold\"]\n",
        "gold_dataset.head()"
      ],
      "execution_count": 182,
      "outputs": [
        {
          "output_type": "execute_result",
          "data": {
            "text/html": [
              "<div>\n",
              "<style scoped>\n",
              "    .dataframe tbody tr th:only-of-type {\n",
              "        vertical-align: middle;\n",
              "    }\n",
              "\n",
              "    .dataframe tbody tr th {\n",
              "        vertical-align: top;\n",
              "    }\n",
              "\n",
              "    .dataframe thead th {\n",
              "        text-align: right;\n",
              "    }\n",
              "</style>\n",
              "<table border=\"1\" class=\"dataframe\">\n",
              "  <thead>\n",
              "    <tr style=\"text-align: right;\">\n",
              "      <th></th>\n",
              "      <th>Year</th>\n",
              "      <th>City</th>\n",
              "      <th>Sport</th>\n",
              "      <th>Discipline</th>\n",
              "      <th>Athlete</th>\n",
              "      <th>Code</th>\n",
              "      <th>Gender</th>\n",
              "      <th>Event</th>\n",
              "      <th>Medal</th>\n",
              "    </tr>\n",
              "  </thead>\n",
              "  <tbody>\n",
              "    <tr>\n",
              "      <th>0</th>\n",
              "      <td>1896</td>\n",
              "      <td>Athens</td>\n",
              "      <td>Aquatics</td>\n",
              "      <td>Swimming</td>\n",
              "      <td>HAJOS, Alfred</td>\n",
              "      <td>HUN</td>\n",
              "      <td>Men</td>\n",
              "      <td>100M Freestyle</td>\n",
              "      <td>Gold</td>\n",
              "    </tr>\n",
              "    <tr>\n",
              "      <th>3</th>\n",
              "      <td>1896</td>\n",
              "      <td>Athens</td>\n",
              "      <td>Aquatics</td>\n",
              "      <td>Swimming</td>\n",
              "      <td>MALOKINIS, Ioannis</td>\n",
              "      <td>GRE</td>\n",
              "      <td>Men</td>\n",
              "      <td>100M Freestyle For Sailors</td>\n",
              "      <td>Gold</td>\n",
              "    </tr>\n",
              "    <tr>\n",
              "      <th>6</th>\n",
              "      <td>1896</td>\n",
              "      <td>Athens</td>\n",
              "      <td>Aquatics</td>\n",
              "      <td>Swimming</td>\n",
              "      <td>HAJOS, Alfred</td>\n",
              "      <td>HUN</td>\n",
              "      <td>Men</td>\n",
              "      <td>1200M Freestyle</td>\n",
              "      <td>Gold</td>\n",
              "    </tr>\n",
              "    <tr>\n",
              "      <th>9</th>\n",
              "      <td>1896</td>\n",
              "      <td>Athens</td>\n",
              "      <td>Aquatics</td>\n",
              "      <td>Swimming</td>\n",
              "      <td>NEUMANN, Paul</td>\n",
              "      <td>AUT</td>\n",
              "      <td>Men</td>\n",
              "      <td>400M Freestyle</td>\n",
              "      <td>Gold</td>\n",
              "    </tr>\n",
              "    <tr>\n",
              "      <th>13</th>\n",
              "      <td>1896</td>\n",
              "      <td>Athens</td>\n",
              "      <td>Athletics</td>\n",
              "      <td>Athletics</td>\n",
              "      <td>BURKE, Thomas</td>\n",
              "      <td>USA</td>\n",
              "      <td>Men</td>\n",
              "      <td>100M</td>\n",
              "      <td>Gold</td>\n",
              "    </tr>\n",
              "  </tbody>\n",
              "</table>\n",
              "</div>"
            ],
            "text/plain": [
              "    Year    City      Sport  ... Gender                       Event Medal\n",
              "0   1896  Athens   Aquatics  ...    Men              100M Freestyle  Gold\n",
              "3   1896  Athens   Aquatics  ...    Men  100M Freestyle For Sailors  Gold\n",
              "6   1896  Athens   Aquatics  ...    Men             1200M Freestyle  Gold\n",
              "9   1896  Athens   Aquatics  ...    Men              400M Freestyle  Gold\n",
              "13  1896  Athens  Athletics  ...    Men                        100M  Gold\n",
              "\n",
              "[5 rows x 9 columns]"
            ]
          },
          "metadata": {},
          "execution_count": 182
        }
      ]
    },
    {
      "cell_type": "code",
      "metadata": {
        "colab": {
          "base_uri": "https://localhost:8080/"
        },
        "id": "ee5Wirhlc2X7",
        "outputId": "3746a9ee-44b8-4a07-c718-50c00f18f306"
      },
      "source": [
        "First_Medal = gold_data[gold_data['Medal'] == 'Gold']\n",
        "Firstmedal_India = First_Medal[First_Medal['Code'] == 'IND']\n",
        " \n",
        "lstt = []\n",
        "for i in Firstmedal_India['Year'].unique():\n",
        "     lstt.append(i)\n",
        "min(lstt)\n",
        "print(f\"INDIA WON FIRST GOLD MEDAL IN SUMMER OLYMPICS: {min(lstt)}\")"
      ],
      "execution_count": 183,
      "outputs": [
        {
          "output_type": "stream",
          "name": "stdout",
          "text": [
            "INDIA WON FIRST GOLD MEDAL IN SUMMER OLYMPICS: 1928\n"
          ]
        }
      ]
    },
    {
      "cell_type": "code",
      "metadata": {
        "colab": {
          "base_uri": "https://localhost:8080/",
          "height": 114
        },
        "id": "FNgQYaywC7D7",
        "outputId": "f591ccab-4f0a-4cee-dc5b-86e7a6de8f10"
      },
      "source": [
        "India_goldmedals=gold_dataset[gold_dataset[\"Code\"]==\"IND\"]\n",
        "India_goldmedals=India_goldmedals.sort_values(by=\"Year\", ascending=True)\n",
        "print(f\"INDIA WON FIRST GOLD MEDAL IN SUMMER OLYMPICS:\\n\")\n",
        "India_goldmedals.head(1)"
      ],
      "execution_count": 184,
      "outputs": [
        {
          "output_type": "stream",
          "name": "stdout",
          "text": [
            "INDIA WON FIRST GOLD MEDAL IN SUMMER OLYMPICS:\n",
            "\n"
          ]
        },
        {
          "output_type": "execute_result",
          "data": {
            "text/html": [
              "<div>\n",
              "<style scoped>\n",
              "    .dataframe tbody tr th:only-of-type {\n",
              "        vertical-align: middle;\n",
              "    }\n",
              "\n",
              "    .dataframe tbody tr th {\n",
              "        vertical-align: top;\n",
              "    }\n",
              "\n",
              "    .dataframe thead th {\n",
              "        text-align: right;\n",
              "    }\n",
              "</style>\n",
              "<table border=\"1\" class=\"dataframe\">\n",
              "  <thead>\n",
              "    <tr style=\"text-align: right;\">\n",
              "      <th></th>\n",
              "      <th>Year</th>\n",
              "      <th>City</th>\n",
              "      <th>Sport</th>\n",
              "      <th>Discipline</th>\n",
              "      <th>Athlete</th>\n",
              "      <th>Code</th>\n",
              "      <th>Gender</th>\n",
              "      <th>Event</th>\n",
              "      <th>Medal</th>\n",
              "    </tr>\n",
              "  </thead>\n",
              "  <tbody>\n",
              "    <tr>\n",
              "      <th>5512</th>\n",
              "      <td>1928</td>\n",
              "      <td>Amsterdam</td>\n",
              "      <td>Hockey</td>\n",
              "      <td>Hockey</td>\n",
              "      <td>ALLEN, Richard James</td>\n",
              "      <td>IND</td>\n",
              "      <td>Men</td>\n",
              "      <td>Hockey</td>\n",
              "      <td>Gold</td>\n",
              "    </tr>\n",
              "  </tbody>\n",
              "</table>\n",
              "</div>"
            ],
            "text/plain": [
              "      Year       City   Sport Discipline  ... Code Gender   Event Medal\n",
              "5512  1928  Amsterdam  Hockey     Hockey  ...  IND    Men  Hockey  Gold\n",
              "\n",
              "[1 rows x 9 columns]"
            ]
          },
          "metadata": {},
          "execution_count": 184
        }
      ]
    },
    {
      "cell_type": "code",
      "metadata": {
        "colab": {
          "base_uri": "https://localhost:8080/",
          "height": 329
        },
        "id": "yi49yi267qRB",
        "outputId": "ea956dea-b5d8-4fef-e946-47706b94613f"
      },
      "source": [
        "Country_by_medal = summer_df[(summer_df[\"Code\"] == \"IND\")][[\"Sport\", \"Medal\"]]\n",
        "Country_by_medal = Country_by_medal.value_counts([\"Sport\"]).reset_index(name = \"Counts_of_Medal\")[:10]\n",
        "print(f\"TOTAL MEDALS WON BY INDIA IN SUMMER OLYMPICS:\\n\")\n",
        "Country_by_medal"
      ],
      "execution_count": 185,
      "outputs": [
        {
          "output_type": "stream",
          "name": "stdout",
          "text": [
            "TOTAL MEDALS WON BY INDIA IN SUMMER OLYMPICS:\n",
            "\n"
          ]
        },
        {
          "output_type": "execute_result",
          "data": {
            "text/html": [
              "<div>\n",
              "<style scoped>\n",
              "    .dataframe tbody tr th:only-of-type {\n",
              "        vertical-align: middle;\n",
              "    }\n",
              "\n",
              "    .dataframe tbody tr th {\n",
              "        vertical-align: top;\n",
              "    }\n",
              "\n",
              "    .dataframe thead th {\n",
              "        text-align: right;\n",
              "    }\n",
              "</style>\n",
              "<table border=\"1\" class=\"dataframe\">\n",
              "  <thead>\n",
              "    <tr style=\"text-align: right;\">\n",
              "      <th></th>\n",
              "      <th>Sport</th>\n",
              "      <th>Counts_of_Medal</th>\n",
              "    </tr>\n",
              "  </thead>\n",
              "  <tbody>\n",
              "    <tr>\n",
              "      <th>0</th>\n",
              "      <td>Hockey</td>\n",
              "      <td>169</td>\n",
              "    </tr>\n",
              "    <tr>\n",
              "      <th>1</th>\n",
              "      <td>Wrestling</td>\n",
              "      <td>4</td>\n",
              "    </tr>\n",
              "    <tr>\n",
              "      <th>2</th>\n",
              "      <td>Shooting</td>\n",
              "      <td>4</td>\n",
              "    </tr>\n",
              "    <tr>\n",
              "      <th>3</th>\n",
              "      <td>Boxing</td>\n",
              "      <td>2</td>\n",
              "    </tr>\n",
              "    <tr>\n",
              "      <th>4</th>\n",
              "      <td>Athletics</td>\n",
              "      <td>2</td>\n",
              "    </tr>\n",
              "    <tr>\n",
              "      <th>5</th>\n",
              "      <td>Weightlifting</td>\n",
              "      <td>1</td>\n",
              "    </tr>\n",
              "    <tr>\n",
              "      <th>6</th>\n",
              "      <td>Tennis</td>\n",
              "      <td>1</td>\n",
              "    </tr>\n",
              "    <tr>\n",
              "      <th>7</th>\n",
              "      <td>Badminton</td>\n",
              "      <td>1</td>\n",
              "    </tr>\n",
              "  </tbody>\n",
              "</table>\n",
              "</div>"
            ],
            "text/plain": [
              "           Sport  Counts_of_Medal\n",
              "0         Hockey              169\n",
              "1      Wrestling                4\n",
              "2       Shooting                4\n",
              "3         Boxing                2\n",
              "4      Athletics                2\n",
              "5  Weightlifting                1\n",
              "6         Tennis                1\n",
              "7      Badminton                1"
            ]
          },
          "metadata": {},
          "execution_count": 185
        }
      ]
    },
    {
      "cell_type": "code",
      "metadata": {
        "colab": {
          "base_uri": "https://localhost:8080/",
          "height": 622
        },
        "id": "8pn1rv-XfM4K",
        "outputId": "a4c26266-aeae-4418-df94-4236bbc00e93"
      },
      "source": [
        "sns.set_style('whitegrid')\n",
        "matplotlib.rcParams['figure.figsize'] = (12, 10)\n",
        "\n",
        "plt.title(\"Total Medals won by India\")\n",
        "barplot = sns.barplot(data=Country_by_medal, y=\"Sport\", x=\"Counts_of_Medal\", hue=\"Sport\", palette=\"CMRmap\", dodge=False)\n",
        "barplot.set_xticklabels(rotation=0, labels=Country_by_medal.Sport)\n",
        "plt.xlabel(\"Counts_of_Medal\")\n",
        "plt.show()"
      ],
      "execution_count": 186,
      "outputs": [
        {
          "output_type": "display_data",
          "data": {
            "image/png": "[encoded data removed]",
            "text/plain": [
              "<Figure size 864x720 with 1 Axes>"
            ]
          },
          "metadata": {}
        }
      ]
    },
    {
      "cell_type": "markdown",
      "metadata": {
        "id": "WJ_j5wN-DUDg"
      },
      "source": [
        "## **7. Which event is most popular in terms on number of players? (Top 5)**"
      ]
    },
    {
      "cell_type": "code",
      "metadata": {
        "colab": {
          "base_uri": "https://localhost:8080/",
          "height": 237
        },
        "id": "H_uG176RDZFa",
        "outputId": "94ec94bb-d17f-4ddf-f756-133ed176f486"
      },
      "source": [
        "Number_of_players = summer_df[[\"Event\",\"Athlete\"]]\n",
        "Number_of_players = Number_of_players.value_counts(\"Event\").reset_index(name=\"No_of_players\")[:5]\n",
        "print(f\"MOST POPULAR EVENT IN TERMS ON NUMBER OF PLAYERS:\\n\")\n",
        "Number_of_players"
      ],
      "execution_count": 187,
      "outputs": [
        {
          "output_type": "stream",
          "name": "stdout",
          "text": [
            "MOST POPULAR EVENT IN TERMS ON NUMBER OF PLAYERS:\n",
            "\n"
          ]
        },
        {
          "output_type": "execute_result",
          "data": {
            "text/html": [
              "<div>\n",
              "<style scoped>\n",
              "    .dataframe tbody tr th:only-of-type {\n",
              "        vertical-align: middle;\n",
              "    }\n",
              "\n",
              "    .dataframe tbody tr th {\n",
              "        vertical-align: top;\n",
              "    }\n",
              "\n",
              "    .dataframe thead th {\n",
              "        text-align: right;\n",
              "    }\n",
              "</style>\n",
              "<table border=\"1\" class=\"dataframe\">\n",
              "  <thead>\n",
              "    <tr style=\"text-align: right;\">\n",
              "      <th></th>\n",
              "      <th>Event</th>\n",
              "      <th>No_of_players</th>\n",
              "    </tr>\n",
              "  </thead>\n",
              "  <tbody>\n",
              "    <tr>\n",
              "      <th>0</th>\n",
              "      <td>Football</td>\n",
              "      <td>1497</td>\n",
              "    </tr>\n",
              "    <tr>\n",
              "      <th>1</th>\n",
              "      <td>Hockey</td>\n",
              "      <td>1422</td>\n",
              "    </tr>\n",
              "    <tr>\n",
              "      <th>2</th>\n",
              "      <td>Team Competition</td>\n",
              "      <td>1147</td>\n",
              "    </tr>\n",
              "    <tr>\n",
              "      <th>3</th>\n",
              "      <td>Basketball</td>\n",
              "      <td>1012</td>\n",
              "    </tr>\n",
              "    <tr>\n",
              "      <th>4</th>\n",
              "      <td>Handball</td>\n",
              "      <td>973</td>\n",
              "    </tr>\n",
              "  </tbody>\n",
              "</table>\n",
              "</div>"
            ],
            "text/plain": [
              "              Event  No_of_players\n",
              "0          Football           1497\n",
              "1            Hockey           1422\n",
              "2  Team Competition           1147\n",
              "3        Basketball           1012\n",
              "4          Handball            973"
            ]
          },
          "metadata": {},
          "execution_count": 187
        }
      ]
    },
    {
      "cell_type": "code",
      "metadata": {
        "colab": {
          "base_uri": "https://localhost:8080/",
          "height": 687
        },
        "id": "fgWEDHZGg3hH",
        "outputId": "34c3d5db-b053-4a37-f5eb-c4a7a8e34fe5"
      },
      "source": [
        "sns.set_style('whitegrid')\n",
        "matplotlib.rcParams['figure.figsize'] = (12, 10)\n",
        "\n",
        "plt.title(\"Most Popular Events in terms of No of Players\")\n",
        "barplot = sns.barplot(data=Number_of_players, x=\"Event\", y=\"No_of_players\", hue=\"Event\", palette=\"CMRmap\", dodge=False)\n",
        "barplot.set_xticklabels(rotation=50, labels=Number_of_players.Event)\n",
        "plt.ylabel(\"No_of_players\")\n",
        "plt.show()"
      ],
      "execution_count": 188,
      "outputs": [
        {
          "output_type": "display_data",
          "data": {
            "image/png": "[encoded data removed]",
            "text/plain": [
              "<Figure size 864x720 with 1 Axes>"
            ]
          },
          "metadata": {}
        }
      ]
    },
    {
      "cell_type": "markdown",
      "metadata": {
        "id": "qC-fnSDgFHjg"
      },
      "source": [
        "## **8. Which sport is having most female Gold Medalists? (Top 5)**"
      ]
    },
    {
      "cell_type": "code",
      "metadata": {
        "colab": {
          "base_uri": "https://localhost:8080/",
          "height": 254
        },
        "id": "FVa8MFxiFLpn",
        "outputId": "0328c068-088e-493e-ed38-3eb0aa0dcbb8"
      },
      "source": [
        "Female_gold_medalists = summer_df[(summer_df[\"Medal\"] == \"Gold\") & (summer_df[\"Gender\"] == \"Women\")][[\"Sport\", \"Medal\"]]\n",
        "Female_gold_medalists = Female_gold_medalists.value_counts([\"Sport\"]).reset_index(name = \"Female_gold_medalists\")[:5]\n",
        "print(f\"\\nFEMALE GOLD MEDALISTS IN SUMMER OLYMPICS:\\n\")\n",
        "Female_gold_medalists"
      ],
      "execution_count": 189,
      "outputs": [
        {
          "output_type": "stream",
          "name": "stdout",
          "text": [
            "\n",
            "FEMALE GOLD MEDALISTS IN SUMMER OLYMPICS:\n",
            "\n"
          ]
        },
        {
          "output_type": "execute_result",
          "data": {
            "text/html": [
              "<div>\n",
              "<style scoped>\n",
              "    .dataframe tbody tr th:only-of-type {\n",
              "        vertical-align: middle;\n",
              "    }\n",
              "\n",
              "    .dataframe tbody tr th {\n",
              "        vertical-align: top;\n",
              "    }\n",
              "\n",
              "    .dataframe thead th {\n",
              "        text-align: right;\n",
              "    }\n",
              "</style>\n",
              "<table border=\"1\" class=\"dataframe\">\n",
              "  <thead>\n",
              "    <tr style=\"text-align: right;\">\n",
              "      <th></th>\n",
              "      <th>Sport</th>\n",
              "      <th>Female_gold_medalists</th>\n",
              "    </tr>\n",
              "  </thead>\n",
              "  <tbody>\n",
              "    <tr>\n",
              "      <th>0</th>\n",
              "      <td>Aquatics</td>\n",
              "      <td>589</td>\n",
              "    </tr>\n",
              "    <tr>\n",
              "      <th>1</th>\n",
              "      <td>Athletics</td>\n",
              "      <td>388</td>\n",
              "    </tr>\n",
              "    <tr>\n",
              "      <th>2</th>\n",
              "      <td>Gymnastics</td>\n",
              "      <td>268</td>\n",
              "    </tr>\n",
              "    <tr>\n",
              "      <th>3</th>\n",
              "      <td>Rowing</td>\n",
              "      <td>217</td>\n",
              "    </tr>\n",
              "    <tr>\n",
              "      <th>4</th>\n",
              "      <td>Volleyball</td>\n",
              "      <td>166</td>\n",
              "    </tr>\n",
              "  </tbody>\n",
              "</table>\n",
              "</div>"
            ],
            "text/plain": [
              "        Sport  Female_gold_medalists\n",
              "0    Aquatics                    589\n",
              "1   Athletics                    388\n",
              "2  Gymnastics                    268\n",
              "3      Rowing                    217\n",
              "4  Volleyball                    166"
            ]
          },
          "metadata": {},
          "execution_count": 189
        }
      ]
    },
    {
      "cell_type": "code",
      "metadata": {
        "colab": {
          "base_uri": "https://localhost:8080/",
          "height": 663
        },
        "id": "mmx9vJvdhjRr",
        "outputId": "ec665042-fe18-4a3a-ed7a-c9b7f441214d"
      },
      "source": [
        "sns.set_style('whitegrid')\n",
        "matplotlib.rcParams['figure.figsize'] = (12, 10)\n",
        "\n",
        "plt.title(\"Female Gold Medalists in Summer Olympics\")\n",
        "barplot = sns.barplot(data=Female_gold_medalists, x=\"Sport\", y=\"Female_gold_medalists\", hue=\"Sport\", palette=\"CMRmap\", dodge=False)\n",
        "barplot.set_xticklabels(rotation=50, labels=Female_gold_medalists.Sport)\n",
        "plt.ylabel(\"Female_gold_medalists\")\n",
        "plt.show()"
      ],
      "execution_count": 190,
      "outputs": [
        {
          "output_type": "display_data",
          "data": {
            "image/png": "[encoded data removed]",
            "text/plain": [
              "<Figure size 864x720 with 1 Axes>"
            ]
          },
          "metadata": {}
        }
      ]
    }
  ]
}